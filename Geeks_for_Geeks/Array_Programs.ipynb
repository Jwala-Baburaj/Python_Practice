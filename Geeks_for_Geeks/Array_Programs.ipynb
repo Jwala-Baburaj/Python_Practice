{
 "cells": [
  {
   "cell_type": "markdown",
   "metadata": {},
   "source": [
    "#### 1. Given an array of integers, find the sum of its elements.\n",
    "\n",
    "Example :\n",
    "\n",
    "Input : arr[] = {1, 2, 3}\n",
    "\n",
    "Output : 6\n",
    "\n",
    "1 + 2 + 3 = 6"
   ]
  },
  {
   "cell_type": "code",
   "execution_count": 14,
   "metadata": {},
   "outputs": [
    {
     "data": {
      "text/plain": [
       "6"
      ]
     },
     "execution_count": 14,
     "metadata": {},
     "output_type": "execute_result"
    }
   ],
   "source": [
    "def array_sum(arr):\n",
    "    \n",
    "    return sum(arr)\n",
    "\n",
    "arr = [1,2,3]\n",
    "array_sum(arr)\n",
    "\n",
    "#or\n",
    "# sum = 0\n",
    "# for i in arr:\n",
    "#     sum += i\n",
    "# return sum\n",
    "   "
   ]
  },
  {
   "cell_type": "markdown",
   "metadata": {},
   "source": [
    "#### 2. Given an array, find the largest element in it.\n",
    "\n",
    "Example:\n",
    "\n",
    "Input : arr[] = {20, 10, 20, 4, 100}\n",
    "\n",
    "Output : 100"
   ]
  },
  {
   "cell_type": "code",
   "execution_count": 19,
   "metadata": {},
   "outputs": [
    {
     "data": {
      "text/plain": [
       "100"
      ]
     },
     "execution_count": 19,
     "metadata": {},
     "output_type": "execute_result"
    }
   ],
   "source": [
    "def largest(arr):\n",
    "    \n",
    "    # Consider first value of the arr to be the largest in the array \n",
    "    largest = arr[0]\n",
    "    \n",
    "    for index in range(1, len(arr)):\n",
    "        if arr[index] > largest:\n",
    "            largest = arr[index]\n",
    "    \n",
    "    return largest\n",
    "\n",
    "\n",
    "arr = [20, 10, 20, 4, 100]\n",
    "largest(arr)"
   ]
  },
  {
   "cell_type": "markdown",
   "metadata": {},
   "source": [
    "#### 3. Write a function rotate(ar[], d) that rotates arr[] by d elements.\n",
    "\n",
    "Example:\n",
    "\n",
    "Input: arr[] = [1,2,3,4,5,6,7]\n",
    "\n",
    "Output: [3,4,5,6,7,1,2]"
   ]
  },
  {
   "cell_type": "code",
   "execution_count": 28,
   "metadata": {},
   "outputs": [
    {
     "data": {
      "text/plain": [
       "[3, 4, 5, 6, 7, 1, 2]"
      ]
     },
     "execution_count": 28,
     "metadata": {},
     "output_type": "execute_result"
    }
   ],
   "source": [
    "def rotate_array(arr,d):\n",
    "    \n",
    "    # slicing and concatenating\n",
    "    # arr[d:] gives elements from d to last element\n",
    "    # arr[:d] gives remaining elements from the beginning of array to dth position\n",
    "    return arr[d:] + arr[:d]\n",
    "\n",
    "arr = [1,2,3,4,5,6,7]\n",
    "d = 2\n",
    "rotate_array(arr, d)"
   ]
  },
  {
   "cell_type": "markdown",
   "metadata": {},
   "source": [
    "#### 4. Given multiple numbers and a number n, the task is to print the remainder after multiply all the number divide by n.\n",
    "\n",
    "Examples:\n",
    "\n",
    "Input : arr[] = {100, 10, 5, 25, 35, 14}, \n",
    "            n = 11\n",
    "\n",
    "Output : 9\n",
    "\n",
    "100 x 10 x 5 x 25 x 35 x 14 = 61250000 % 11 = 9\n",
    "\n",
    "Naive approach: First multiple all the number then take % by n then find the remainder, But in this approach if number is maximum of 2^64 then it give wrong answer.\n",
    "\n",
    "\n",
    "Approach that avoids overflow : First take a remainder or individual number like arr[i] % n. Then multiply the remainder with current result. After multiplication, again take remainder to avoid overflow. This works because of distributive properties of modular arithmetic. ( a * b) % c = ( ( a % c ) * ( b % c ) ) % c"
   ]
  },
  {
   "cell_type": "code",
   "execution_count": 36,
   "metadata": {},
   "outputs": [
    {
     "data": {
      "text/plain": [
       "9"
      ]
     },
     "execution_count": 36,
     "metadata": {},
     "output_type": "execute_result"
    }
   ],
   "source": [
    "def mult_elements_mod_n(arr,n):\n",
    "    \n",
    "    solution = 1\n",
    "    for index in range(len(arr)):\n",
    "        solution *= arr[index] % n\n",
    "    \n",
    "    return solution % n\n",
    "\n",
    "\n",
    "arr = [100,10,5,25,35,14]\n",
    "n = 11\n",
    "mult_elements_mod_n(arr,n)\n"
   ]
  },
  {
   "cell_type": "markdown",
   "metadata": {},
   "source": [
    "#### 5. Given an array A containing n integers. The task is to check whether the array is Monotonic or not. An array is monotonic if it is either monotone increasing or monotone decreasing.\n",
    "\n",
    "An array A is monotone increasing if for all i <= j, A[i] <= A[j]. An array A is monotone decreasing if for all i <= j, A[i] >= A[j].\n",
    "Return “True” if the given array A is monotonic else return “False” (without quotes).\n",
    "\n",
    "Examples:\n",
    "\n",
    "Input : 6 5 4 4\n",
    "\n",
    "Output : True\n",
    "\n",
    "Input : 5 15 20 10\n",
    "\n",
    "Output : False"
   ]
  },
  {
   "cell_type": "code",
   "execution_count": 64,
   "metadata": {},
   "outputs": [
    {
     "name": "stdout",
     "output_type": "stream",
     "text": [
      "True\n",
      "False\n"
     ]
    }
   ],
   "source": [
    "# Method 1: Using all() and zip() functions\n",
    "\n",
    "def monotonic_check(A):\n",
    "    \n",
    "    \n",
    "    # The all() function returns True if all items in an iterable are true, otherwise it returns False.\n",
    "    return all(x<=y for x,y in zip(A, A[1:])) or all(x>=y for x,y in zip(A, A[1:]))\n",
    "    \n",
    "    \n",
    "A = [6,5,4,3]\n",
    "B = [5,15,20,10]\n",
    "\n",
    "print(monotonic_check(A))    \n",
    "print(monotonic_check(B))"
   ]
  },
  {
   "cell_type": "code",
   "execution_count": 66,
   "metadata": {},
   "outputs": [
    {
     "name": "stdout",
     "output_type": "stream",
     "text": [
      "True\n",
      "False\n"
     ]
    }
   ],
   "source": [
    "# Method 2: Using range() function\n",
    "\n",
    "def monotonic_check(A):\n",
    "    \n",
    "    return (all(A[i] <= A[i + 1] for i in range(len(A)-1)) or\n",
    "                all(A[i] >= A[i + 1] for i in range(len(A)-1)))\n",
    "\n",
    "A = [6,5,4,3]\n",
    "B = [5,15,20,10]\n",
    "\n",
    "print(monotonic_check(A))    \n",
    "print(monotonic_check(B))"
   ]
  }
 ],
 "metadata": {
  "kernelspec": {
   "display_name": "Python 3",
   "language": "python",
   "name": "python3"
  },
  "language_info": {
   "codemirror_mode": {
    "name": "ipython",
    "version": 3
   },
   "file_extension": ".py",
   "mimetype": "text/x-python",
   "name": "python",
   "nbconvert_exporter": "python",
   "pygments_lexer": "ipython3",
   "version": "3.8.5"
  }
 },
 "nbformat": 4,
 "nbformat_minor": 4
}
