{
 "cells": [
  {
   "cell_type": "markdown",
   "metadata": {},
   "source": [
    "## This is a compilation of 70 Numpy exercises with solutions from the webpage:\n",
    "\n",
    "https://www.machinelearningplus.com/python/101-numpy-exercises-python/"
   ]
  },
  {
   "cell_type": "markdown",
   "metadata": {},
   "source": [
    "#### 1. Import numpy as np and see the version\n",
    "\n",
    "Import numpy as np and print the version number."
   ]
  },
  {
   "cell_type": "code",
   "execution_count": 14,
   "metadata": {},
   "outputs": [],
   "source": [
    "import numpy as np"
   ]
  },
  {
   "cell_type": "code",
   "execution_count": 5,
   "metadata": {},
   "outputs": [
    {
     "name": "stdout",
     "output_type": "stream",
     "text": [
      "1.19.2\n"
     ]
    }
   ],
   "source": [
    "print(np.__version__)"
   ]
  },
  {
   "cell_type": "markdown",
   "metadata": {},
   "source": [
    "#### 2. How to create a 1D array?\n",
    "\n",
    "Create a 1D array of numbers from 0 to 9\n",
    "\n",
    " Desired Output\n",
    " > array([0, 1, 2, 3, 4, 5, 6, 7, 8, 9])"
   ]
  },
  {
   "cell_type": "code",
   "execution_count": 6,
   "metadata": {},
   "outputs": [
    {
     "data": {
      "text/plain": [
       "array([0, 1, 2, 3, 4, 5, 6, 7, 8, 9])"
      ]
     },
     "execution_count": 6,
     "metadata": {},
     "output_type": "execute_result"
    }
   ],
   "source": [
    "a = np.arange(10)\n",
    "a"
   ]
  },
  {
   "cell_type": "markdown",
   "metadata": {},
   "source": [
    "#### 3. How to create a boolean array?\n",
    "Create a 3×3 numpy array of all True’s"
   ]
  },
  {
   "cell_type": "code",
   "execution_count": 22,
   "metadata": {},
   "outputs": [
    {
     "data": {
      "text/plain": [
       "array([[ True,  True,  True],\n",
       "       [ True,  True,  True],\n",
       "       [ True,  True,  True]])"
      ]
     },
     "execution_count": 22,
     "metadata": {},
     "output_type": "execute_result"
    }
   ],
   "source": [
    "# numpy.repeat(a, repeats, axis=None)\n",
    "# Repeat elements of an array.\n",
    "\n",
    "bool_array = np.repeat(True,9).reshape(3,3)\n",
    "bool_array"
   ]
  },
  {
   "cell_type": "code",
   "execution_count": null,
   "metadata": {},
   "outputs": [],
   "source": [
    "# More examples of repeating elements of an array\n",
    "\n",
    ">>> np.repeat(3, 4)\n",
    "array([3, 3, 3, 3])\n",
    "\n",
    ">>> x = np.array([[1,2],[3,4]])\n",
    ">>> np.repeat(x, 2)\n",
    "array([1, 1, 2, 2, 3, 3, 4, 4])  # flatens array by repeating each element twice in this case\n",
    "\n",
    ">>> np.repeat(x, 3, axis=1)      # repeats along the row; each element thrice\n",
    "array([[1, 1, 1, 2, 2, 2],       # did not flatten as axis provided for 2d array\n",
    "       [3, 3, 3, 4, 4, 4]])      \n",
    "\n",
    ">>> np.repeat(x, [1, 2], axis=0) # repeats [1,2] once and [3,4] twice along axis=0\n",
    "array([[1, 2],\n",
    "       [3, 4],\n",
    "       [3, 4]])\n",
    "\n",
    ">>> np.repeat(x, [3, 4], axis=0) # repeats [1,2] thrice and [3,4] four times along axis=0\n",
    "array([[1, 2],\n",
    "       [1, 2],\n",
    "       [1, 2],\n",
    "       [3, 4],\n",
    "       [3, 4],\n",
    "       [3, 4],\n",
    "       [3, 4]])"
   ]
  },
  {
   "cell_type": "code",
   "execution_count": 21,
   "metadata": {},
   "outputs": [
    {
     "name": "stdout",
     "output_type": "stream",
     "text": [
      "[ True  True False False  True False  True False]\n"
     ]
    }
   ],
   "source": [
    "# Another example of returning boolean array\n",
    "\n",
    "bool_arr = np.array([1, 0.5, 0, None, 'a', '', True, False], dtype=bool)\n",
    "print(bool_arr)"
   ]
  },
  {
   "cell_type": "markdown",
   "metadata": {},
   "source": [
    "#### 4. How to extract items that satisfy a given condition from 1D array?\n",
    "\n",
    "Extract all odd numbers from arr.\n",
    "\n",
    "Input:\n",
    "\n",
    "arr = [0, 1, 2, 3, 4, 5, 6, 7, 8, 9]\n",
    "\n",
    "\n",
    " Desired Output:\n",
    " > array([1, 3, 5, 7, 9])"
   ]
  },
  {
   "cell_type": "code",
   "execution_count": 30,
   "metadata": {},
   "outputs": [
    {
     "name": "stdout",
     "output_type": "stream",
     "text": [
      "[0 1 2 3 4 5 6 7 8 9]\n",
      "[False  True False  True False  True False  True False  True]\n"
     ]
    },
    {
     "data": {
      "text/plain": [
       "array([1, 3, 5, 7, 9])"
      ]
     },
     "execution_count": 30,
     "metadata": {},
     "output_type": "execute_result"
    }
   ],
   "source": [
    "# Create a 1D array\n",
    "arr = np.arange(10)\n",
    "print(arr)\n",
    "\n",
    "# Create a boolean array by applying condition for odd numbers from the array\n",
    "# Comparison operator will be applied to each element in array \n",
    "# and number of elements in returned bool array will be same as original array. \n",
    "# But but for every element that satisfies the condition there will be True in array \n",
    "# and False for others in the returned array.\n",
    "bool_arr = (arr%2 != 0)\n",
    "print(bool_arr)\n",
    "\n",
    "# Pass this bool array to subscript operator [] of original array to return \n",
    "# a new array containing elements from original array for which it was True in bool array\n",
    "new_arr = arr[bool_arr]\n",
    "new_arr"
   ]
  },
  {
   "cell_type": "code",
   "execution_count": 31,
   "metadata": {},
   "outputs": [
    {
     "data": {
      "text/plain": [
       "array([1, 3, 5, 7, 9])"
      ]
     },
     "execution_count": 31,
     "metadata": {},
     "output_type": "execute_result"
    }
   ],
   "source": [
    "# We can do all that in a single line by passing complete comparing expression in [] operator\n",
    "odd_arr = arr[arr%2 != 0]\n",
    "odd_arr"
   ]
  },
  {
   "cell_type": "markdown",
   "metadata": {},
   "source": [
    "#### 5. How to replace items that satisfy a condition with another value in numpy array?\n",
    "\n",
    "Replace all odd numbers in arr with -1.\n",
    "\n",
    "Input:\n",
    "\n",
    "arr = [0, 1, 2, 3, 4, 5, 6, 7, 8, 9]\n",
    "\n",
    "\n",
    " Desired Output:\n",
    ">  array([ 0, -1,  2, -1,  4, -1,  6, -1,  8, -1])"
   ]
  },
  {
   "cell_type": "code",
   "execution_count": 41,
   "metadata": {},
   "outputs": [
    {
     "data": {
      "text/plain": [
       "array([ 0, -1,  2, -1,  4, -1,  6, -1,  8, -1])"
      ]
     },
     "execution_count": 41,
     "metadata": {},
     "output_type": "execute_result"
    }
   ],
   "source": [
    "arr = np.arange(10)\n",
    "\n",
    "arr[arr%2 != 0] = -1\n",
    "arr"
   ]
  }
 ],
 "metadata": {
  "kernelspec": {
   "display_name": "Python 3",
   "language": "python",
   "name": "python3"
  },
  "language_info": {
   "codemirror_mode": {
    "name": "ipython",
    "version": 3
   },
   "file_extension": ".py",
   "mimetype": "text/x-python",
   "name": "python",
   "nbconvert_exporter": "python",
   "pygments_lexer": "ipython3",
   "version": "3.8.5"
  }
 },
 "nbformat": 4,
 "nbformat_minor": 4
}
