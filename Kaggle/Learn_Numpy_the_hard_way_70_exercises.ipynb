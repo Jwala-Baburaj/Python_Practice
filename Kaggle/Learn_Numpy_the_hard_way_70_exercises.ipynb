{
 "cells": [
  {
   "cell_type": "markdown",
   "metadata": {},
   "source": [
    "## This is a compilation of 70 Numpy exercises with solutions from the webpage:\n",
    "\n",
    "https://www.machinelearningplus.com/python/101-numpy-exercises-python/"
   ]
  },
  {
   "cell_type": "markdown",
   "metadata": {},
   "source": [
    "#### 1. Import numpy as np and see the version\n",
    "\n",
    "Import numpy as np and print the version number."
   ]
  },
  {
   "cell_type": "code",
   "execution_count": 3,
   "metadata": {},
   "outputs": [],
   "source": [
    "import numpy as np"
   ]
  },
  {
   "cell_type": "code",
   "execution_count": 5,
   "metadata": {},
   "outputs": [
    {
     "name": "stdout",
     "output_type": "stream",
     "text": [
      "1.19.2\n"
     ]
    }
   ],
   "source": [
    "print(np.__version__)"
   ]
  },
  {
   "cell_type": "markdown",
   "metadata": {},
   "source": [
    "#### 2. How to create a 1D array?\n",
    "\n",
    "Create a 1D array of numbers from 0 to 9\n",
    "\n",
    " Desired Output\n",
    " > array([0, 1, 2, 3, 4, 5, 6, 7, 8, 9])"
   ]
  },
  {
   "cell_type": "code",
   "execution_count": 6,
   "metadata": {},
   "outputs": [
    {
     "data": {
      "text/plain": [
       "array([0, 1, 2, 3, 4, 5, 6, 7, 8, 9])"
      ]
     },
     "execution_count": 6,
     "metadata": {},
     "output_type": "execute_result"
    }
   ],
   "source": [
    "a = np.arange(10)\n",
    "a"
   ]
  },
  {
   "cell_type": "markdown",
   "metadata": {},
   "source": [
    "#### 3. How to create a boolean array?\n",
    "Create a 3×3 numpy array of all True’s"
   ]
  },
  {
   "cell_type": "code",
   "execution_count": 22,
   "metadata": {},
   "outputs": [
    {
     "data": {
      "text/plain": [
       "array([[ True,  True,  True],\n",
       "       [ True,  True,  True],\n",
       "       [ True,  True,  True]])"
      ]
     },
     "execution_count": 22,
     "metadata": {},
     "output_type": "execute_result"
    }
   ],
   "source": [
    "# numpy.repeat(a, repeats, axis=None)\n",
    "# Repeat elements of an array.\n",
    "\n",
    "bool_array = np.repeat(True,9).reshape(3,3)\n",
    "bool_array"
   ]
  },
  {
   "cell_type": "code",
   "execution_count": null,
   "metadata": {},
   "outputs": [],
   "source": [
    "# More examples of repeating elements of an array\n",
    "\n",
    ">>> np.repeat(3, 4)\n",
    "array([3, 3, 3, 3])\n",
    "\n",
    ">>> x = np.array([[1,2],[3,4]])\n",
    ">>> np.repeat(x, 2)\n",
    "array([1, 1, 2, 2, 3, 3, 4, 4])  # flatens array by repeating each element twice in this case\n",
    "\n",
    ">>> np.repeat(x, 3, axis=1)      # repeats along the row; each element thrice\n",
    "array([[1, 1, 1, 2, 2, 2],       # did not flatten as axis provided for 2d array\n",
    "       [3, 3, 3, 4, 4, 4]])      \n",
    "\n",
    ">>> np.repeat(x, [1, 2], axis=0) # repeats [1,2] once and [3,4] twice along axis=0\n",
    "array([[1, 2],\n",
    "       [3, 4],\n",
    "       [3, 4]])\n",
    "\n",
    ">>> np.repeat(x, [3, 4], axis=0) # repeats [1,2] thrice and [3,4] four times along axis=0\n",
    "array([[1, 2],\n",
    "       [1, 2],\n",
    "       [1, 2],\n",
    "       [3, 4],\n",
    "       [3, 4],\n",
    "       [3, 4],\n",
    "       [3, 4]])"
   ]
  },
  {
   "cell_type": "code",
   "execution_count": 21,
   "metadata": {},
   "outputs": [
    {
     "name": "stdout",
     "output_type": "stream",
     "text": [
      "[ True  True False False  True False  True False]\n"
     ]
    }
   ],
   "source": [
    "# Another example of returning boolean array\n",
    "\n",
    "bool_arr = np.array([1, 0.5, 0, None, 'a', '', True, False], dtype=bool)\n",
    "print(bool_arr)"
   ]
  },
  {
   "cell_type": "markdown",
   "metadata": {},
   "source": [
    "#### 4. How to extract items that satisfy a given condition from 1D array?\n",
    "\n",
    "Extract all odd numbers from arr.\n",
    "\n",
    "Input:\n",
    "\n",
    "arr = [0, 1, 2, 3, 4, 5, 6, 7, 8, 9]\n",
    "\n",
    "\n",
    " Desired Output:\n",
    " > array([1, 3, 5, 7, 9])"
   ]
  },
  {
   "cell_type": "code",
   "execution_count": 30,
   "metadata": {},
   "outputs": [
    {
     "name": "stdout",
     "output_type": "stream",
     "text": [
      "[0 1 2 3 4 5 6 7 8 9]\n",
      "[False  True False  True False  True False  True False  True]\n"
     ]
    },
    {
     "data": {
      "text/plain": [
       "array([1, 3, 5, 7, 9])"
      ]
     },
     "execution_count": 30,
     "metadata": {},
     "output_type": "execute_result"
    }
   ],
   "source": [
    "# Create a 1D array\n",
    "arr = np.arange(10)\n",
    "print(arr)\n",
    "\n",
    "# Create a boolean array by applying condition for odd numbers from the array\n",
    "# Comparison operator will be applied to each element in array \n",
    "# and number of elements in returned bool array will be same as original array. \n",
    "# But but for every element that satisfies the condition there will be True in array \n",
    "# and False for others in the returned array.\n",
    "bool_arr = (arr%2 != 0)\n",
    "print(bool_arr)\n",
    "\n",
    "# Pass this bool array to subscript operator [] of original array to return \n",
    "# a new array containing elements from original array for which it was True in bool array\n",
    "new_arr = arr[bool_arr]\n",
    "new_arr"
   ]
  },
  {
   "cell_type": "code",
   "execution_count": 31,
   "metadata": {},
   "outputs": [
    {
     "data": {
      "text/plain": [
       "array([1, 3, 5, 7, 9])"
      ]
     },
     "execution_count": 31,
     "metadata": {},
     "output_type": "execute_result"
    }
   ],
   "source": [
    "# We can do all that in a single line by passing complete comparing expression in [] operator\n",
    "odd_arr = arr[arr%2 != 0]\n",
    "odd_arr"
   ]
  },
  {
   "cell_type": "markdown",
   "metadata": {},
   "source": [
    "#### 5. How to replace items that satisfy a condition with another value in numpy array?\n",
    "\n",
    "Replace all odd numbers in arr with -1.\n",
    "\n",
    "Input:\n",
    "\n",
    "arr = [0, 1, 2, 3, 4, 5, 6, 7, 8, 9]\n",
    "\n",
    "\n",
    " Desired Output:\n",
    ">  array([ 0, -1,  2, -1,  4, -1,  6, -1,  8, -1])"
   ]
  },
  {
   "cell_type": "code",
   "execution_count": 41,
   "metadata": {},
   "outputs": [
    {
     "data": {
      "text/plain": [
       "array([ 0, -1,  2, -1,  4, -1,  6, -1,  8, -1])"
      ]
     },
     "execution_count": 41,
     "metadata": {},
     "output_type": "execute_result"
    }
   ],
   "source": [
    "arr = np.arange(10)\n",
    "\n",
    "arr[arr%2 != 0] = -1\n",
    "arr"
   ]
  },
  {
   "cell_type": "markdown",
   "metadata": {},
   "source": [
    "#### 6. How to replace items that satisfy a condition without affecting the original array?\n",
    "Replace all odd numbers in arr with -1 without changing arr.\n",
    "\n",
    "Input:\n",
    "\n",
    "arr = [0, 1, 2, 3, 4, 5, 6, 7, 8, 9]\n",
    "\n",
    "Desired Output:\n",
    "\n",
    "out  >  array([ 0, -1,  2, -1,  4, -1,  6, -1,  8, -1])\n",
    "\n",
    "arr  >  array([0, 1, 2, 3, 4, 5, 6, 7, 8, 9])"
   ]
  },
  {
   "cell_type": "code",
   "execution_count": 7,
   "metadata": {},
   "outputs": [
    {
     "name": "stdout",
     "output_type": "stream",
     "text": [
      "Modified array: [ 0 -1  2 -1  4 -1  6 -1  8 -1]\n",
      "Original array: [0 1 2 3 4 5 6 7 8 9]\n"
     ]
    }
   ],
   "source": [
    "# numpy.copy(a, order='K', subok=False)\n",
    "# Return an array copy of the given object.\n",
    "\n",
    "arr = np.arange(10)\n",
    "\n",
    "arr2 = np.copy(arr)\n",
    "arr2[arr2%2 != 0] = -1\n",
    "print(f\"Modified array: {arr2}\")\n",
    "print(f\"Original array: {arr}\")"
   ]
  },
  {
   "cell_type": "markdown",
   "metadata": {},
   "source": [
    "#### 7. How to reshape an array?\n",
    "Convert a 1D array to a 2D array with 2 rows.\n",
    "\n",
    "Input:\n",
    "\n",
    "arr = [0, 1, 2, 3, 4, 5, 6, 7, 8, 9]\n",
    "\n",
    "Desired Output:\n",
    "> array([[0, 1, 2, 3, 4],\n",
    " >        [5, 6, 7, 8, 9]])"
   ]
  },
  {
   "cell_type": "code",
   "execution_count": 14,
   "metadata": {},
   "outputs": [
    {
     "data": {
      "text/plain": [
       "array([[0, 1, 2, 3, 4],\n",
       "       [5, 6, 7, 8, 9]])"
      ]
     },
     "execution_count": 14,
     "metadata": {},
     "output_type": "execute_result"
    }
   ],
   "source": [
    "np.arange(10).reshape(2,5)\n",
    "\n",
    "# or\n",
    "# np.arange(10).reshape(2,-1)"
   ]
  },
  {
   "cell_type": "markdown",
   "metadata": {},
   "source": [
    "#### 8. How to stack two arrays vertically?\n",
    "Stack arrays a and b vertically.\n",
    "\n",
    "Input:\n",
    "\n",
    "a = np.arange(10).reshape(2,-1)\n",
    "\n",
    "b = np.repeat(1, 10).reshape(2,-1)\n",
    "\n",
    "Desired Output:\n",
    "\n",
    "> array([[0, 1, 2, 3, 4],\n",
    ">        [5, 6, 7, 8, 9],\n",
    ">        [1, 1, 1, 1, 1],\n",
    ">        [1, 1, 1, 1, 1]])"
   ]
  },
  {
   "cell_type": "code",
   "execution_count": 29,
   "metadata": {},
   "outputs": [
    {
     "name": "stdout",
     "output_type": "stream",
     "text": [
      "[[0 1 2 3 4]\n",
      " [5 6 7 8 9]]\n",
      "[[1 1 1 1 1]\n",
      " [1 1 1 1 1]]\n"
     ]
    },
    {
     "data": {
      "text/plain": [
       "array([[0, 1, 2, 3, 4],\n",
       "       [5, 6, 7, 8, 9],\n",
       "       [1, 1, 1, 1, 1],\n",
       "       [1, 1, 1, 1, 1]])"
      ]
     },
     "execution_count": 29,
     "metadata": {},
     "output_type": "execute_result"
    }
   ],
   "source": [
    "# Method 1 - vstack (given solution)\n",
    "# numpy.vstack(tup)\n",
    "# Stack arrays in sequence vertically (row wise).\n",
    "\n",
    "a = np.arange(10).reshape(2,-1)\n",
    "print(a)\n",
    "\n",
    "b = np.repeat(1, 10).reshape(2,-1)\n",
    "print(b)\n",
    "\n",
    "np.vstack((a,b))"
   ]
  },
  {
   "cell_type": "code",
   "execution_count": 22,
   "metadata": {},
   "outputs": [
    {
     "name": "stdout",
     "output_type": "stream",
     "text": [
      "[[0 1 2 3 4]\n",
      " [5 6 7 8 9]]\n",
      "[[1 1 1 1 1]\n",
      " [1 1 1 1 1]]\n"
     ]
    },
    {
     "data": {
      "text/plain": [
       "array([[0, 1, 2, 3, 4],\n",
       "       [5, 6, 7, 8, 9],\n",
       "       [1, 1, 1, 1, 1],\n",
       "       [1, 1, 1, 1, 1]])"
      ]
     },
     "execution_count": 22,
     "metadata": {},
     "output_type": "execute_result"
    }
   ],
   "source": [
    "# Method 2 - concatenate \n",
    "# numpy.concatenate((a1, a2, ...), axis=0, out=None)\n",
    "# Join a sequence of arrays along an existing axis.\n",
    "\n",
    "a = np.arange(10).reshape(2,-1)\n",
    "print(a)\n",
    "\n",
    "b = np.repeat(1, 10).reshape(2,-1)\n",
    "print(b)\n",
    "\n",
    "np.concatenate((a,b), axis=0)  # here axis=0 is optional as it's the default axis in the syntax"
   ]
  },
  {
   "cell_type": "code",
   "execution_count": 26,
   "metadata": {},
   "outputs": [
    {
     "name": "stdout",
     "output_type": "stream",
     "text": [
      "[[0 1 2 3 4 1 1 1 1 1]\n",
      " [5 6 7 8 9 1 1 1 1 1]]\n",
      "\n",
      "[0 1 2 3 4 5 6 7 8 9 1 1 1 1 1 1 1 1 1 1]\n"
     ]
    }
   ],
   "source": [
    "# if axis=1, concatenates column-wise\n",
    "print(np.concatenate((a,b), axis=1))\n",
    "\n",
    "print()\n",
    "\n",
    "# if axis=None, flatens array one after the other\n",
    "print(np.concatenate((a,b), axis=None))"
   ]
  },
  {
   "cell_type": "markdown",
   "metadata": {},
   "source": [
    "#### 9. How to stack two arrays horizontally?\n",
    "Stack the arrays a and b horizontally.\n",
    "\n",
    "Input:\n",
    "\n",
    "a = np.arange(10).reshape(2,-1)\n",
    "\n",
    "b = np.repeat(1, 10).reshape(2,-1)\n",
    "\n",
    "Desired Output:\n",
    "\n",
    "> array([[0, 1, 2, 3, 4, 1, 1, 1, 1, 1],\n",
    " >        [5, 6, 7, 8, 9, 1, 1, 1, 1, 1]])"
   ]
  },
  {
   "cell_type": "code",
   "execution_count": 30,
   "metadata": {},
   "outputs": [
    {
     "name": "stdout",
     "output_type": "stream",
     "text": [
      "[[0 1 2 3 4]\n",
      " [5 6 7 8 9]]\n",
      "[[1 1 1 1 1]\n",
      " [1 1 1 1 1]]\n"
     ]
    },
    {
     "data": {
      "text/plain": [
       "array([[0, 1, 2, 3, 4, 1, 1, 1, 1, 1],\n",
       "       [5, 6, 7, 8, 9, 1, 1, 1, 1, 1]])"
      ]
     },
     "execution_count": 30,
     "metadata": {},
     "output_type": "execute_result"
    }
   ],
   "source": [
    "# Method 1 - hstack (given solution)\n",
    "# numpy.hstack(tup)\n",
    "# Stack arrays in sequence horizontally (column wise).\n",
    "\n",
    "a = np.arange(10).reshape(2,-1)\n",
    "print(a)\n",
    "\n",
    "b = np.repeat(1, 10).reshape(2,-1)\n",
    "print(b)\n",
    "\n",
    "np.hstack((a,b))"
   ]
  },
  {
   "cell_type": "code",
   "execution_count": 32,
   "metadata": {},
   "outputs": [
    {
     "data": {
      "text/plain": [
       "array([[0, 1, 2, 3, 4, 1, 1, 1, 1, 1],\n",
       "       [5, 6, 7, 8, 9, 1, 1, 1, 1, 1]])"
      ]
     },
     "execution_count": 32,
     "metadata": {},
     "output_type": "execute_result"
    }
   ],
   "source": [
    "# Method 2 - concatenate\n",
    "\n",
    "np.concatenate((a,b), axis=1)"
   ]
  },
  {
   "cell_type": "markdown",
   "metadata": {},
   "source": [
    "#### 10. How to generate custom sequences in numpy without hardcoding?\n",
    "Create the following pattern without hardcoding. Use only numpy functions and the below input array a.\n",
    "\n",
    "Input:\n",
    "\n",
    "a = np.array([1,2,3]\n",
    "\n",
    "Desired Output:\n",
    "\n",
    "> array([1, 1, 1, 2, 2, 2, 3, 3, 3, 1, 2, 3, 1, 2, 3, 1, 2, 3])"
   ]
  },
  {
   "cell_type": "code",
   "execution_count": 52,
   "metadata": {},
   "outputs": [
    {
     "data": {
      "text/plain": [
       "array([1, 1, 1, 2, 2, 2, 3, 3, 3, 1, 2, 3, 1, 2, 3, 1, 2, 3])"
      ]
     },
     "execution_count": 52,
     "metadata": {},
     "output_type": "execute_result"
    }
   ],
   "source": [
    "# numpy.tile(A, reps)\n",
    "# Construct an array by repeating A the number of times given by reps.\n",
    "\n",
    "a = np.array([1,2,3])\n",
    "\n",
    "b = np.repeat(a,3)\n",
    "c = np.tile(a,3)\n",
    "np.concatenate((b,c))"
   ]
  }
 ],
 "metadata": {
  "kernelspec": {
   "display_name": "Python 3",
   "language": "python",
   "name": "python3"
  },
  "language_info": {
   "codemirror_mode": {
    "name": "ipython",
    "version": 3
   },
   "file_extension": ".py",
   "mimetype": "text/x-python",
   "name": "python",
   "nbconvert_exporter": "python",
   "pygments_lexer": "ipython3",
   "version": "3.8.5"
  }
 },
 "nbformat": 4,
 "nbformat_minor": 4
}
