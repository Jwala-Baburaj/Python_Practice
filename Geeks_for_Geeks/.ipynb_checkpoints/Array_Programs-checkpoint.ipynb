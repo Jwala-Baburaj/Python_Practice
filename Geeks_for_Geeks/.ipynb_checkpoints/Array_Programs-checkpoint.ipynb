{
 "cells": [
  {
   "cell_type": "markdown",
   "metadata": {},
   "source": [
    "#### 1. Given an array of integers, find the sum of its elements.\n",
    "\n",
    "Example :\n",
    "\n",
    "Input : arr[] = {1, 2, 3}\n",
    "\n",
    "Output : 6\n",
    "\n",
    "1 + 2 + 3 = 6"
   ]
  }
 ],
 "metadata": {
  "kernelspec": {
   "display_name": "Python 3",
   "language": "python",
   "name": "python3"
  },
  "language_info": {
   "codemirror_mode": {
    "name": "ipython",
    "version": 3
   },
   "file_extension": ".py",
   "mimetype": "text/x-python",
   "name": "python",
   "nbconvert_exporter": "python",
   "pygments_lexer": "ipython3",
   "version": "3.8.5"
  }
 },
 "nbformat": 4,
 "nbformat_minor": 4
}
