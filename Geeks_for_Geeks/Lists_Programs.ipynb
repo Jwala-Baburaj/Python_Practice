{
 "cells": [
  {
   "cell_type": "markdown",
   "metadata": {},
   "source": [
    "#### 1. Given a list, write a Python program to swap first and last element of the list.\n",
    "\n",
    "Examples:\n",
    "\n",
    "Input : [12, 35, 9, 56, 24]\n",
    "\n",
    "Output : [24, 35, 9, 56, 12]\n",
    "\n",
    "Input : [1, 2, 3]\n",
    "\n",
    "Output : [3, 2, 1]"
   ]
  },
  {
   "cell_type": "markdown",
   "metadata": {},
   "source": [
    "#### 2. Given a list in Python and provided the positions of the elements, write a program to swap the two elements in the list.\n",
    "\n",
    "Examples:\n",
    "\n",
    "Input : List = [23, 65, 19, 90], pos1 = 1, pos2 = 3\n",
    "\n",
    "Output : [19, 65, 23, 90]\n",
    "\n",
    "Input : List = [1, 2, 3, 4, 5], pos1 = 2, pos2 = 5\n",
    "\n",
    "Output : [1, 5, 3, 4, 2]"
   ]
  }
 ],
 "metadata": {
  "kernelspec": {
   "display_name": "Python 3",
   "language": "python",
   "name": "python3"
  },
  "language_info": {
   "codemirror_mode": {
    "name": "ipython",
    "version": 3
   },
   "file_extension": ".py",
   "mimetype": "text/x-python",
   "name": "python",
   "nbconvert_exporter": "python",
   "pygments_lexer": "ipython3",
   "version": "3.8.5"
  }
 },
 "nbformat": 4,
 "nbformat_minor": 4
}
