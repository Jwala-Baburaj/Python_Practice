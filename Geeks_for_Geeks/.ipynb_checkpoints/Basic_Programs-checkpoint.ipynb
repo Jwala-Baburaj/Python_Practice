{
 "cells": [
  {
   "cell_type": "markdown",
   "metadata": {},
   "source": [
    "#### 1. Given two numbers num1 and num2. The task is to write a Python program to find the addition of these two numbers."
   ]
  },
  {
   "cell_type": "code",
   "execution_count": 3,
   "metadata": {},
   "outputs": [
    {
     "name": "stdout",
     "output_type": "stream",
     "text": [
      "Enter first number: 3.5\n",
      "Enter second number: 6.3\n",
      "\n",
      "Sum of two numbers = 9.8\n"
     ]
    }
   ],
   "source": [
    "# To add two numbers\n",
    "\n",
    "def add_two_numbers(num1, num2):\n",
    "    \"\"\"Adding two numbers provided by user input\"\"\"\n",
    "    \n",
    "    return num1+num2\n",
    "\n",
    "# User might also enter float numbers \n",
    "num1 = float(input(\"Enter first number: \"))\n",
    "num2 = float(input(\"Enter second number: \"))\n",
    "\n",
    "sum = add_two_numbers(num1,num2)\n",
    "print(f\"\\nSum of two numbers = {sum}\")"
   ]
  },
  {
   "cell_type": "markdown",
   "metadata": {},
   "source": [
    "#### 2. Given two numbers, write a Python code to find the Maximum of these two numbers."
   ]
  },
  {
   "cell_type": "code",
   "execution_count": 6,
   "metadata": {},
   "outputs": [
    {
     "name": "stdout",
     "output_type": "stream",
     "text": [
      "Maximum of two given numbers: 6\n"
     ]
    }
   ],
   "source": [
    "# To find maximum of two numbers\n",
    "# Method 1 - naive approach\n",
    "\n",
    "def max_two_numbers(a,b):\n",
    "    \"\"\"Finding maximum of two numbers\"\"\"\n",
    "    \n",
    "    if a>=b:\n",
    "        max = a\n",
    "    else:\n",
    "        max = b\n",
    "# else statement can be ignored since return is provided below\n",
    "    return max\n",
    "\n",
    "# Driver code\n",
    "a = 6\n",
    "b = 2.8\n",
    "\n",
    "maximum = max_two_numbers(a,b)\n",
    "print(f\"Maximum of two given numbers: {maximum}\")\n"
   ]
  },
  {
   "cell_type": "code",
   "execution_count": 8,
   "metadata": {},
   "outputs": [
    {
     "name": "stdout",
     "output_type": "stream",
     "text": [
      "Maximum of two given numbers: 6\n"
     ]
    }
   ],
   "source": [
    "# Method 2 - max() function\n",
    "\n",
    "def max_two_numbers(a,b):\n",
    "    \"\"\"Finding maximum of two numbers using max() function\"\"\"\n",
    "    \n",
    "    return max(a,b)\n",
    "\n",
    "# Driver code\n",
    "a = 6\n",
    "b = 2.8\n",
    "\n",
    "maximum = max_two_numbers(a,b)\n",
    "print(f\"Maximum of two given numbers: {maximum}\")"
   ]
  },
  {
   "cell_type": "markdown",
   "metadata": {},
   "source": [
    "#### 3. Find factorial of a given number.\n",
    "Factorial of a non-negative integer, is multiplication of all integers smaller than or equal to n. For example factorial of 6 is 6*5*4*3*2*1 which is 720."
   ]
  },
  {
   "cell_type": "code",
   "execution_count": 18,
   "metadata": {},
   "outputs": [
    {
     "name": "stdout",
     "output_type": "stream",
     "text": [
      "Factorial of 5, 5! = 120\n"
     ]
    }
   ],
   "source": [
    "# Method 1\n",
    "\n",
    "def factorial(num):\n",
    "    \"\"\"Takes in a number num and returns its factorial\"\"\"\n",
    "    \n",
    "    if num < 0: \n",
    "        return 0\n",
    "    elif num == 0 or num == 1: \n",
    "        return 1\n",
    "    else: \n",
    "        n = 1\n",
    "        print(f\"Factorial of {num}, {num}! = \", end = '')\n",
    "\n",
    "        while(num>1):\n",
    "\n",
    "            n = n*num\n",
    "            num -=1\n",
    "            \n",
    "        return n\n",
    "\n",
    "fact = factorial(5)\n",
    "print(fact)"
   ]
  },
  {
   "cell_type": "code",
   "execution_count": 19,
   "metadata": {},
   "outputs": [
    {
     "name": "stdout",
     "output_type": "stream",
     "text": [
      "Factorial of 5 is 120\n"
     ]
    }
   ],
   "source": [
    "# Method 2 using Ternary operator\n",
    "\n",
    "def factorial(num):\n",
    "    \n",
    "    return 1 if num == 1 else num * factorial(num-1)\n",
    "\n",
    "num = 5\n",
    "# Call function in the print statement\n",
    "print(\"Factorial of\",num,\"is\", factorial(num))  "
   ]
  },
  {
   "cell_type": "markdown",
   "metadata": {},
   "source": [
    "#### 4. Given a number x, determine whether the given number is Armstrong number or not. \n",
    "\n",
    "A positive integer of n digits is called an Armstrong number of order n (order is number of digits) if.\n",
    "\n",
    "abcd... = pow(a,n) + pow(b,n) + pow(c,n) + pow(d,n) + .... \n",
    "\n",
    "Example: 153 = $1^{3}$ + $5^{3}$ + $3^{3}$, where n = 3 "
   ]
  },
  {
   "cell_type": "code",
   "execution_count": 37,
   "metadata": {},
   "outputs": [
    {
     "data": {
      "text/plain": [
       "True"
      ]
     },
     "execution_count": 37,
     "metadata": {},
     "output_type": "execute_result"
    }
   ],
   "source": [
    "# Method 1 using for loop\n",
    "\n",
    "def armstrong_number_check(x):\n",
    "    \"\"\"Takes in a number x and returns 1 if armstrong number else returns 0 \"\"\"\n",
    "    \n",
    "# Convert x to a string to find the length of the numbers     \n",
    "    n = len(str(x))\n",
    "    y= 0\n",
    "    \n",
    "    for digit in str(x):\n",
    "\n",
    "        y += int(digit)**n\n",
    "\n",
    "    return True if x==y else False\n",
    "    \n",
    "armstrong_number_check(153)"
   ]
  },
  {
   "cell_type": "code",
   "execution_count": 36,
   "metadata": {},
   "outputs": [
    {
     "name": "stdout",
     "output_type": "stream",
     "text": [
      "True\n",
      "False\n"
     ]
    }
   ],
   "source": [
    "# Method 2 - define 3 functions to calculate power, order \n",
    "# and to check if the given number is armstrong or not\n",
    "\n",
    "# Function to calculate x raised to  \n",
    "# the power y \n",
    "def power(x, y): \n",
    "      \n",
    "    if y == 0: \n",
    "        return 1\n",
    "    if y % 2 == 0: \n",
    "        return power(x, y // 2) * power(x, y // 2) \n",
    "          \n",
    "    return x * power(x, y // 2) * power(x, y // 2) \n",
    "  \n",
    "# Function to calculate order of the number \n",
    "def order(x): \n",
    "  \n",
    "    # Variable to store of the number \n",
    "    n = 0\n",
    "    while (x != 0): \n",
    "        n = n + 1\n",
    "        x = x // 10\n",
    "          \n",
    "    return n \n",
    "  \n",
    "# Function to check whether the given  \n",
    "# number is Armstrong number or not \n",
    "def isArmstrong(x): \n",
    "      \n",
    "    n = order(x) \n",
    "    temp = x \n",
    "    sum1 = 0\n",
    "      \n",
    "    while (temp != 0): \n",
    "        r = temp % 10\n",
    "        sum1 = sum1 + power(r, n) \n",
    "        temp = temp // 10\n",
    "  \n",
    "    # If condition satisfies \n",
    "    return (sum1 == x) \n",
    "  \n",
    "# Driver code \n",
    "x = 153\n",
    "print(isArmstrong(x)) \n",
    "  \n",
    "x = 1253\n",
    "print(isArmstrong(x)) "
   ]
  },
  {
   "cell_type": "markdown",
   "metadata": {},
   "source": [
    "#### 5. Given two positive integers start and end. The task is to write a program to print all Prime numbers in an interval.\n",
    "\n",
    "A prime number is a natural number greater than 1 that has no positive divisors other than 1 and itself. The first few prime numbers are {2, 3, 5, 7, 11, ….}.\n",
    "\n",
    "The idea to solve this problem is to iterate the val from start to end using a for loop and for every number, if it is greater than 1, check if it divides n. If we find any other number which divides, print that value."
   ]
  },
  {
   "cell_type": "code",
   "execution_count": 182,
   "metadata": {},
   "outputs": [
    {
     "name": "stdout",
     "output_type": "stream",
     "text": [
      "2\n",
      "3\n",
      "5\n",
      "7\n",
      "11\n",
      "13\n",
      "17\n",
      "19\n",
      "23\n"
     ]
    }
   ],
   "source": [
    "def prime_in_interval(start, end):\n",
    "    \n",
    "    for i in range(start,end):\n",
    "        if i > 1:\n",
    "            for j in range(2,i):\n",
    "                if i%j == 0:\n",
    "                    break\n",
    "            else:                  # after the end of for j loop\n",
    "                print(i)\n",
    "                    \n",
    "prime_in_interval(1,25)\n",
    "            "
   ]
  },
  {
   "cell_type": "markdown",
   "metadata": {},
   "source": [
    "#### 6. Given a positive integer N, the task is to write a code to check if the number is prime or not."
   ]
  },
  {
   "cell_type": "code",
   "execution_count": 75,
   "metadata": {},
   "outputs": [
    {
     "name": "stdout",
     "output_type": "stream",
     "text": [
      "2 is a prime number\n"
     ]
    }
   ],
   "source": [
    "def isPrime(N):\n",
    "\n",
    "    # Instead of checking till N, \n",
    "    # we can check till N/2 because a larger factor of N must be a multiple of a smaller factor \n",
    "    # that has been already checked.\n",
    "    for num in range(2, N//2):\n",
    "        if (N % num == 0):\n",
    "            return f\"{N} is not a prime number\"\n",
    "    return f\"{N} is a prime number\"\n",
    "            \n",
    "print(isPrime(2))"
   ]
  },
  {
   "cell_type": "markdown",
   "metadata": {},
   "source": [
    "#### 7. Print n-th Fibonacci number\n",
    "\n",
    "In mathematical terms, the sequence Fn of Fibonacci numbers is defined by the recurrence relation, \n",
    "    $F_{n}$ = $F_{n-1}$ + $F_{n-2}$\n",
    "\n",
    "With seed values, \n",
    "    $F_{0}$ = 0 and $F_{1}$ = 1."
   ]
  },
  {
   "cell_type": "code",
   "execution_count": 148,
   "metadata": {},
   "outputs": [
    {
     "data": {
      "text/plain": [
       "144"
      ]
     },
     "execution_count": 148,
     "metadata": {},
     "output_type": "execute_result"
    }
   ],
   "source": [
    "def nth_fibonacci(n):\n",
    "    \n",
    "    if n == 0:\n",
    "        return 0\n",
    "    elif n == 1:\n",
    "        return 1\n",
    "    else:\n",
    "        # Taking 1st two fibonacci numbers as 0 and 1\n",
    "        first, second = 0, 1\n",
    "        \n",
    "        # Initialise count to 2 as first two numbers in the sequence already attained\n",
    "        count = 2\n",
    "        \n",
    "        # To get the nth number, count until it's less than n+1 as subscrpt of fibonacci series\n",
    "        # starts from 0\n",
    "        while(count < n+1):\n",
    "            fib = first + second\n",
    "            first = second\n",
    "            second = fib\n",
    "            count += 1\n",
    "            if count == n+1:    \n",
    "                return(fib)\n",
    "\n",
    "nth_fibonacci(12)\n"
   ]
  },
  {
   "cell_type": "markdown",
   "metadata": {},
   "source": [
    "#### 8. Given a number 'n', how to check if n is a Fibonacci number. \n",
    "\n",
    "First few Fibonacci numbers are 0, 1, 1, 2, 3, 5, 8, 13, 21, 34, 55, 89, 141, .."
   ]
  },
  {
   "cell_type": "code",
   "execution_count": 165,
   "metadata": {},
   "outputs": [
    {
     "data": {
      "text/plain": [
       "True"
      ]
     },
     "execution_count": 165,
     "metadata": {},
     "output_type": "execute_result"
    }
   ],
   "source": [
    "def isFibonacci(n):\n",
    "    \"\"\"Takes in a number n and returns True if it's a Fibonacci\n",
    "        number else returns False\"\"\"\n",
    "   \n",
    "    # Taking 1st two fibonacci numbers as 0 and 1\n",
    "    first, second = 0, 1\n",
    "        \n",
    "    fib = 0\n",
    "        \n",
    "    # While loop condition iterates only until the given number\n",
    "    while(fib <= n):\n",
    "        fib = first + second\n",
    "        if fib == n or n == 0:\n",
    "            return True\n",
    "        else:\n",
    "            first = second\n",
    "            second = fib\n",
    "    return False\n",
    "    \n",
    "isFibonacci(13)            \n",
    "            "
   ]
  },
  {
   "cell_type": "markdown",
   "metadata": {},
   "source": [
    "#### 9. Program to print ASCII Value of a character."
   ]
  },
  {
   "cell_type": "code",
   "execution_count": 173,
   "metadata": {},
   "outputs": [
    {
     "data": {
      "text/plain": [
       "65"
      ]
     },
     "execution_count": 173,
     "metadata": {},
     "output_type": "execute_result"
    }
   ],
   "source": [
    "def print_ASCII(char):\n",
    "    \n",
    "    # Using built-in function ord()\n",
    "    return ord(char)\n",
    "\n",
    "print_ASCII('A')"
   ]
  },
  {
   "cell_type": "markdown",
   "metadata": {},
   "source": [
    "#### 10. Given a positive integer N. The task is to find sum of squares of first N natural numbers $1^{2}$ + $2^{2}$ + $3^{2}$ + ….. + $N^{2}$.\n",
    "\n",
    "Examples:\n",
    "\n",
    "Input : N = 4\n",
    "\n",
    "Output : 30\n",
    "\n",
    "$1^{2}$ + $2^{2}$ + $3^{2}$ + $4^{2}$\n",
    "= 1 + 4 + 9 + 16\n",
    "= 30"
   ]
  },
  {
   "cell_type": "code",
   "execution_count": 174,
   "metadata": {},
   "outputs": [
    {
     "data": {
      "text/plain": [
       "30"
      ]
     },
     "execution_count": 174,
     "metadata": {},
     "output_type": "execute_result"
    }
   ],
   "source": [
    "def sum_of_squares(N):\n",
    "    \n",
    "    sum = 0\n",
    "    for num in range(1,N+1):\n",
    "        sum += pow(num,2)\n",
    "        \n",
    "    return sum\n",
    "\n",
    "sum_of_squares(4)"
   ]
  }
 ],
 "metadata": {
  "kernelspec": {
   "display_name": "Python 3",
   "language": "python",
   "name": "python3"
  },
  "language_info": {
   "codemirror_mode": {
    "name": "ipython",
    "version": 3
   },
   "file_extension": ".py",
   "mimetype": "text/x-python",
   "name": "python",
   "nbconvert_exporter": "python",
   "pygments_lexer": "ipython3",
   "version": "3.8.5"
  }
 },
 "nbformat": 4,
 "nbformat_minor": 4
}
