{
 "cells": [
  {
   "cell_type": "markdown",
   "metadata": {},
   "source": [
    "## This is a compilation of 70 Numpy exercises with solutions from the webpage:\n",
    "\n",
    "https://www.machinelearningplus.com/python/101-numpy-exercises-python/"
   ]
  },
  {
   "cell_type": "markdown",
   "metadata": {},
   "source": [
    "#### 1. Import numpy as np and see the version\n",
    "\n",
    "Import numpy as np and print the version number."
   ]
  },
  {
   "cell_type": "code",
   "execution_count": 2,
   "metadata": {},
   "outputs": [],
   "source": [
    "import numpy as np"
   ]
  },
  {
   "cell_type": "code",
   "execution_count": 5,
   "metadata": {},
   "outputs": [
    {
     "name": "stdout",
     "output_type": "stream",
     "text": [
      "1.19.2\n"
     ]
    }
   ],
   "source": [
    "print(np.__version__)"
   ]
  },
  {
   "cell_type": "markdown",
   "metadata": {},
   "source": [
    "#### 2. How to create a 1D array?\n",
    "\n",
    "Create a 1D array of numbers from 0 to 9\n",
    "\n",
    " Desired Output\n",
    " > array([0, 1, 2, 3, 4, 5, 6, 7, 8, 9])"
   ]
  },
  {
   "cell_type": "code",
   "execution_count": 6,
   "metadata": {},
   "outputs": [
    {
     "data": {
      "text/plain": [
       "array([0, 1, 2, 3, 4, 5, 6, 7, 8, 9])"
      ]
     },
     "execution_count": 6,
     "metadata": {},
     "output_type": "execute_result"
    }
   ],
   "source": [
    "a = np.arange(10)\n",
    "a"
   ]
  },
  {
   "cell_type": "markdown",
   "metadata": {},
   "source": [
    "#### 3. How to create a boolean array?\n",
    "Create a 3×3 numpy array of all True’s"
   ]
  },
  {
   "cell_type": "code",
   "execution_count": 22,
   "metadata": {},
   "outputs": [
    {
     "data": {
      "text/plain": [
       "array([[ True,  True,  True],\n",
       "       [ True,  True,  True],\n",
       "       [ True,  True,  True]])"
      ]
     },
     "execution_count": 22,
     "metadata": {},
     "output_type": "execute_result"
    }
   ],
   "source": [
    "# numpy.repeat(a, repeats, axis=None)\n",
    "# Repeat elements of an array.\n",
    "\n",
    "bool_array = np.repeat(True,9).reshape(3,3)\n",
    "bool_array"
   ]
  },
  {
   "cell_type": "code",
   "execution_count": null,
   "metadata": {},
   "outputs": [],
   "source": [
    "# More examples of repeating elements of an array\n",
    "\n",
    ">>> np.repeat(3, 4)\n",
    "array([3, 3, 3, 3])\n",
    "\n",
    ">>> x = np.array([[1,2],[3,4]])\n",
    ">>> np.repeat(x, 2)\n",
    "array([1, 1, 2, 2, 3, 3, 4, 4])  # flatens array by repeating each element twice in this case\n",
    "\n",
    ">>> np.repeat(x, 3, axis=1)      # repeats along the row; each element thrice\n",
    "array([[1, 1, 1, 2, 2, 2],       # did not flatten as axis provided for 2d array\n",
    "       [3, 3, 3, 4, 4, 4]])      \n",
    "\n",
    ">>> np.repeat(x, [1, 2], axis=0) # repeats [1,2] once and [3,4] twice along axis=0\n",
    "array([[1, 2],\n",
    "       [3, 4],\n",
    "       [3, 4]])\n",
    "\n",
    ">>> np.repeat(x, [3, 4], axis=0) # repeats [1,2] thrice and [3,4] four times along axis=0\n",
    "array([[1, 2],\n",
    "       [1, 2],\n",
    "       [1, 2],\n",
    "       [3, 4],\n",
    "       [3, 4],\n",
    "       [3, 4],\n",
    "       [3, 4]])"
   ]
  },
  {
   "cell_type": "code",
   "execution_count": 21,
   "metadata": {},
   "outputs": [
    {
     "name": "stdout",
     "output_type": "stream",
     "text": [
      "[ True  True False False  True False  True False]\n"
     ]
    }
   ],
   "source": [
    "# Another example of returning boolean array\n",
    "\n",
    "bool_arr = np.array([1, 0.5, 0, None, 'a', '', True, False], dtype=bool)\n",
    "print(bool_arr)"
   ]
  },
  {
   "cell_type": "markdown",
   "metadata": {},
   "source": [
    "#### 4. How to extract items that satisfy a given condition from 1D array?\n",
    "\n",
    "Extract all odd numbers from arr.\n",
    "\n",
    "Input:\n",
    "\n",
    "arr = [0, 1, 2, 3, 4, 5, 6, 7, 8, 9]\n",
    "\n",
    "\n",
    " Desired Output:\n",
    " > array([1, 3, 5, 7, 9])"
   ]
  },
  {
   "cell_type": "code",
   "execution_count": 30,
   "metadata": {},
   "outputs": [
    {
     "name": "stdout",
     "output_type": "stream",
     "text": [
      "[0 1 2 3 4 5 6 7 8 9]\n",
      "[False  True False  True False  True False  True False  True]\n"
     ]
    },
    {
     "data": {
      "text/plain": [
       "array([1, 3, 5, 7, 9])"
      ]
     },
     "execution_count": 30,
     "metadata": {},
     "output_type": "execute_result"
    }
   ],
   "source": [
    "# Create a 1D array\n",
    "arr = np.arange(10)\n",
    "print(arr)\n",
    "\n",
    "# Create a boolean array by applying condition for odd numbers from the array\n",
    "# Comparison operator will be applied to each element in array \n",
    "# and number of elements in returned bool array will be same as original array. \n",
    "# But but for every element that satisfies the condition there will be True in array \n",
    "# and False for others in the returned array.\n",
    "bool_arr = (arr%2 != 0)\n",
    "print(bool_arr)\n",
    "\n",
    "# Pass this bool array to subscript operator [] of original array to return \n",
    "# a new array containing elements from original array for which it was True in bool array\n",
    "new_arr = arr[bool_arr]\n",
    "new_arr"
   ]
  },
  {
   "cell_type": "code",
   "execution_count": 31,
   "metadata": {},
   "outputs": [
    {
     "data": {
      "text/plain": [
       "array([1, 3, 5, 7, 9])"
      ]
     },
     "execution_count": 31,
     "metadata": {},
     "output_type": "execute_result"
    }
   ],
   "source": [
    "# We can do all that in a single line by passing complete comparing expression in [] operator\n",
    "odd_arr = arr[arr%2 != 0]\n",
    "odd_arr"
   ]
  },
  {
   "cell_type": "markdown",
   "metadata": {},
   "source": [
    "#### 5. How to replace items that satisfy a condition with another value in numpy array?\n",
    "\n",
    "Replace all odd numbers in arr with -1.\n",
    "\n",
    "Input:\n",
    "\n",
    "arr = [0, 1, 2, 3, 4, 5, 6, 7, 8, 9]\n",
    "\n",
    "\n",
    " Desired Output:\n",
    ">  array([ 0, -1,  2, -1,  4, -1,  6, -1,  8, -1])"
   ]
  },
  {
   "cell_type": "code",
   "execution_count": 41,
   "metadata": {},
   "outputs": [
    {
     "data": {
      "text/plain": [
       "array([ 0, -1,  2, -1,  4, -1,  6, -1,  8, -1])"
      ]
     },
     "execution_count": 41,
     "metadata": {},
     "output_type": "execute_result"
    }
   ],
   "source": [
    "arr = np.arange(10)\n",
    "\n",
    "arr[arr%2 != 0] = -1\n",
    "arr"
   ]
  },
  {
   "cell_type": "markdown",
   "metadata": {},
   "source": [
    "#### 6. How to replace items that satisfy a condition without affecting the original array?\n",
    "Replace all odd numbers in arr with -1 without changing arr.\n",
    "\n",
    "Input:\n",
    "\n",
    "arr = [0, 1, 2, 3, 4, 5, 6, 7, 8, 9]\n",
    "\n",
    "Desired Output:\n",
    "\n",
    "out  >  array([ 0, -1,  2, -1,  4, -1,  6, -1,  8, -1])\n",
    "\n",
    "arr  >  array([0, 1, 2, 3, 4, 5, 6, 7, 8, 9])"
   ]
  },
  {
   "cell_type": "code",
   "execution_count": 7,
   "metadata": {},
   "outputs": [
    {
     "name": "stdout",
     "output_type": "stream",
     "text": [
      "Modified array: [ 0 -1  2 -1  4 -1  6 -1  8 -1]\n",
      "Original array: [0 1 2 3 4 5 6 7 8 9]\n"
     ]
    }
   ],
   "source": [
    "# numpy.copy(a, order='K', subok=False)\n",
    "# Return an array copy of the given object.\n",
    "\n",
    "arr = np.arange(10)\n",
    "\n",
    "arr2 = np.copy(arr)\n",
    "arr2[arr2%2 != 0] = -1\n",
    "print(f\"Modified array: {arr2}\")\n",
    "print(f\"Original array: {arr}\")"
   ]
  },
  {
   "cell_type": "markdown",
   "metadata": {},
   "source": [
    "#### 7. How to reshape an array?\n",
    "Convert a 1D array to a 2D array with 2 rows.\n",
    "\n",
    "Input:\n",
    "\n",
    "arr = [0, 1, 2, 3, 4, 5, 6, 7, 8, 9]\n",
    "\n",
    "Desired Output:\n",
    "> array([[0, 1, 2, 3, 4],\n",
    " >        [5, 6, 7, 8, 9]])"
   ]
  },
  {
   "cell_type": "code",
   "execution_count": 14,
   "metadata": {},
   "outputs": [
    {
     "data": {
      "text/plain": [
       "array([[0, 1, 2, 3, 4],\n",
       "       [5, 6, 7, 8, 9]])"
      ]
     },
     "execution_count": 14,
     "metadata": {},
     "output_type": "execute_result"
    }
   ],
   "source": [
    "np.arange(10).reshape(2,5)\n",
    "\n",
    "# or\n",
    "# np.arange(10).reshape(2,-1)"
   ]
  },
  {
   "cell_type": "markdown",
   "metadata": {},
   "source": [
    "#### 8. How to stack two arrays vertically?\n",
    "Stack arrays a and b vertically.\n",
    "\n",
    "Input:\n",
    "\n",
    "a = np.arange(10).reshape(2,-1)\n",
    "\n",
    "b = np.repeat(1, 10).reshape(2,-1)\n",
    "\n",
    "Desired Output:\n",
    "\n",
    "> array([[0, 1, 2, 3, 4],\n",
    ">        [5, 6, 7, 8, 9],\n",
    ">        [1, 1, 1, 1, 1],\n",
    ">        [1, 1, 1, 1, 1]])"
   ]
  },
  {
   "cell_type": "code",
   "execution_count": 29,
   "metadata": {},
   "outputs": [
    {
     "name": "stdout",
     "output_type": "stream",
     "text": [
      "[[0 1 2 3 4]\n",
      " [5 6 7 8 9]]\n",
      "[[1 1 1 1 1]\n",
      " [1 1 1 1 1]]\n"
     ]
    },
    {
     "data": {
      "text/plain": [
       "array([[0, 1, 2, 3, 4],\n",
       "       [5, 6, 7, 8, 9],\n",
       "       [1, 1, 1, 1, 1],\n",
       "       [1, 1, 1, 1, 1]])"
      ]
     },
     "execution_count": 29,
     "metadata": {},
     "output_type": "execute_result"
    }
   ],
   "source": [
    "# Method 1 - vstack (given solution)\n",
    "# numpy.vstack(tup)\n",
    "# Stack arrays in sequence vertically (row wise).\n",
    "\n",
    "a = np.arange(10).reshape(2,-1)\n",
    "print(a)\n",
    "\n",
    "b = np.repeat(1, 10).reshape(2,-1)\n",
    "print(b)\n",
    "\n",
    "np.vstack((a,b))"
   ]
  },
  {
   "cell_type": "code",
   "execution_count": 22,
   "metadata": {},
   "outputs": [
    {
     "name": "stdout",
     "output_type": "stream",
     "text": [
      "[[0 1 2 3 4]\n",
      " [5 6 7 8 9]]\n",
      "[[1 1 1 1 1]\n",
      " [1 1 1 1 1]]\n"
     ]
    },
    {
     "data": {
      "text/plain": [
       "array([[0, 1, 2, 3, 4],\n",
       "       [5, 6, 7, 8, 9],\n",
       "       [1, 1, 1, 1, 1],\n",
       "       [1, 1, 1, 1, 1]])"
      ]
     },
     "execution_count": 22,
     "metadata": {},
     "output_type": "execute_result"
    }
   ],
   "source": [
    "# Method 2 - concatenate \n",
    "# numpy.concatenate((a1, a2, ...), axis=0, out=None)\n",
    "# Join a sequence of arrays along an existing axis.\n",
    "\n",
    "a = np.arange(10).reshape(2,-1)\n",
    "print(a)\n",
    "\n",
    "b = np.repeat(1, 10).reshape(2,-1)\n",
    "print(b)\n",
    "\n",
    "np.concatenate((a,b), axis=0)  # here axis=0 is optional as it's the default axis in the syntax"
   ]
  },
  {
   "cell_type": "code",
   "execution_count": 26,
   "metadata": {},
   "outputs": [
    {
     "name": "stdout",
     "output_type": "stream",
     "text": [
      "[[0 1 2 3 4 1 1 1 1 1]\n",
      " [5 6 7 8 9 1 1 1 1 1]]\n",
      "\n",
      "[0 1 2 3 4 5 6 7 8 9 1 1 1 1 1 1 1 1 1 1]\n"
     ]
    }
   ],
   "source": [
    "# if axis=1, concatenates column-wise\n",
    "print(np.concatenate((a,b), axis=1))\n",
    "\n",
    "print()\n",
    "\n",
    "# if axis=None, flatens array one after the other\n",
    "print(np.concatenate((a,b), axis=None))"
   ]
  },
  {
   "cell_type": "markdown",
   "metadata": {},
   "source": [
    "#### 9. How to stack two arrays horizontally?\n",
    "Stack the arrays a and b horizontally.\n",
    "\n",
    "Input:\n",
    "\n",
    "a = np.arange(10).reshape(2,-1)\n",
    "\n",
    "b = np.repeat(1, 10).reshape(2,-1)\n",
    "\n",
    "Desired Output:\n",
    "\n",
    "> array([[0, 1, 2, 3, 4, 1, 1, 1, 1, 1],\n",
    " >        [5, 6, 7, 8, 9, 1, 1, 1, 1, 1]])"
   ]
  },
  {
   "cell_type": "code",
   "execution_count": 30,
   "metadata": {},
   "outputs": [
    {
     "name": "stdout",
     "output_type": "stream",
     "text": [
      "[[0 1 2 3 4]\n",
      " [5 6 7 8 9]]\n",
      "[[1 1 1 1 1]\n",
      " [1 1 1 1 1]]\n"
     ]
    },
    {
     "data": {
      "text/plain": [
       "array([[0, 1, 2, 3, 4, 1, 1, 1, 1, 1],\n",
       "       [5, 6, 7, 8, 9, 1, 1, 1, 1, 1]])"
      ]
     },
     "execution_count": 30,
     "metadata": {},
     "output_type": "execute_result"
    }
   ],
   "source": [
    "# Method 1 - hstack (given solution)\n",
    "# numpy.hstack(tup)\n",
    "# Stack arrays in sequence horizontally (column wise).\n",
    "\n",
    "a = np.arange(10).reshape(2,-1)\n",
    "print(a)\n",
    "\n",
    "b = np.repeat(1, 10).reshape(2,-1)\n",
    "print(b)\n",
    "\n",
    "np.hstack((a,b))"
   ]
  },
  {
   "cell_type": "code",
   "execution_count": 32,
   "metadata": {},
   "outputs": [
    {
     "data": {
      "text/plain": [
       "array([[0, 1, 2, 3, 4, 1, 1, 1, 1, 1],\n",
       "       [5, 6, 7, 8, 9, 1, 1, 1, 1, 1]])"
      ]
     },
     "execution_count": 32,
     "metadata": {},
     "output_type": "execute_result"
    }
   ],
   "source": [
    "# Method 2 - concatenate\n",
    "\n",
    "np.concatenate((a,b), axis=1)"
   ]
  },
  {
   "cell_type": "markdown",
   "metadata": {},
   "source": [
    "#### 10. How to generate custom sequences in numpy without hardcoding?\n",
    "Create the following pattern without hardcoding. Use only numpy functions and the below input array a.\n",
    "\n",
    "Input:\n",
    "\n",
    "a = np.array([1,2,3])\n",
    "\n",
    "Desired Output:\n",
    "\n",
    "> array([1, 1, 1, 2, 2, 2, 3, 3, 3, 1, 2, 3, 1, 2, 3, 1, 2, 3])"
   ]
  },
  {
   "cell_type": "code",
   "execution_count": 52,
   "metadata": {},
   "outputs": [
    {
     "data": {
      "text/plain": [
       "array([1, 1, 1, 2, 2, 2, 3, 3, 3, 1, 2, 3, 1, 2, 3, 1, 2, 3])"
      ]
     },
     "execution_count": 52,
     "metadata": {},
     "output_type": "execute_result"
    }
   ],
   "source": [
    "# numpy.tile(A, reps)\n",
    "# Construct an array by repeating A the number of times given by reps.\n",
    "\n",
    "a = np.array([1,2,3])\n",
    "\n",
    "b = np.repeat(a,3)\n",
    "c = np.tile(a,3)\n",
    "np.concatenate((b,c)) #or #np.concatenate((np.repeat(a,3),np.tile(a,3)))"
   ]
  },
  {
   "cell_type": "markdown",
   "metadata": {},
   "source": [
    "#### 11. How to get the common items between two python numpy arrays? \n",
    "Get the common items between a and b.\n",
    "\n",
    "Input:\n",
    "\n",
    "a = np.array([1,2,3,2,3,4,3,4,5,6])\n",
    "\n",
    "b = np.array([7,2,10,2,7,4,9,4,9,8])\n",
    "\n",
    "Desired Output:\n",
    "\n",
    "> array([2, 4])"
   ]
  },
  {
   "cell_type": "code",
   "execution_count": 65,
   "metadata": {},
   "outputs": [
    {
     "data": {
      "text/plain": [
       "array([2, 4])"
      ]
     },
     "execution_count": 65,
     "metadata": {},
     "output_type": "execute_result"
    }
   ],
   "source": [
    "# numpy.unique(ar, return_index=False, return_inverse=False, return_counts=False, axis=None)\n",
    "# Find the unique elements of an array.\n",
    "\n",
    "# Returns the sorted unique elements of an array. There are three optional outputs in addition to the unique elements:\n",
    "# the indices of the input array that give the unique values\n",
    "# the indices of the unique array that reconstruct the input array\n",
    "# the number of times each unique value comes up in the input array\n",
    "\n",
    "a = np.array([1,2,3,2,3,4,3,4,5,6])\n",
    "\n",
    "b = np.array([7,2,10,2,7,4,9,4,9,8])\n",
    "\n",
    "# a[a==b] returns array([2,2,4,4])\n",
    "np.unique(a[a==b])"
   ]
  },
  {
   "cell_type": "markdown",
   "metadata": {},
   "source": [
    "#### 12. How to remove from one array those items that exist in another?\n",
    "From array a remove all items present in array b\n",
    "\n",
    "Input:\n",
    "\n",
    "a = np.array([1,2,3,4,5])\n",
    "\n",
    "b = np.array([5,6,7,8,9])\n",
    "\n",
    "\n",
    "Desired Output:\n",
    "> array([1,2,3,4])"
   ]
  },
  {
   "cell_type": "code",
   "execution_count": 69,
   "metadata": {},
   "outputs": [
    {
     "data": {
      "text/plain": [
       "array([1, 2, 3, 4])"
      ]
     },
     "execution_count": 69,
     "metadata": {},
     "output_type": "execute_result"
    }
   ],
   "source": [
    "a = np.array([1,2,3,4,5])\n",
    "\n",
    "b = np.array([5,6,7,8,9])\n",
    "\n",
    "a[~np.isin(a,b)] # a[np.isin(a,b)] returns array([5])\n",
    "\n",
    "# np.isin to find the common elements (returns an array of Booleans). \n",
    "# To filter only False, use ~ "
   ]
  },
  {
   "cell_type": "markdown",
   "metadata": {},
   "source": [
    "#### 13. How to get the positions where elements of two arrays match?\n",
    "Get the positions where elements of a and b match.\n",
    "\n",
    "Input:\n",
    "\n",
    "a = np.array([1,2,3,2,3,4,3,4,5,6])\n",
    "\n",
    "b = np.array([7,2,10,2,7,4,9,4,9,8])\n",
    "\n",
    "Desired Output:\n",
    "\n",
    "> (array([1, 3, 5, 7]),)"
   ]
  },
  {
   "cell_type": "code",
   "execution_count": 78,
   "metadata": {},
   "outputs": [
    {
     "data": {
      "text/plain": [
       "(array([1, 3, 5, 7], dtype=int64),)"
      ]
     },
     "execution_count": 78,
     "metadata": {},
     "output_type": "execute_result"
    }
   ],
   "source": [
    "a = np.array([1,2,3,2,3,4,3,4,5,6])\n",
    "\n",
    "b = np.array([7,2,10,2,7,4,9,4,9,8])\n",
    "\n",
    "np.where(a==b)"
   ]
  },
  {
   "cell_type": "markdown",
   "metadata": {},
   "source": [
    "#### 14. How to extract all numbers between a given range from a numpy array?\n",
    "Get all items between 5 and 10 from a.\n",
    "\n",
    "Input:\n",
    "\n",
    "a = np.array([2, 6, 1, 9, 10, 3, 27])\n",
    "\n",
    "Desired Output:\n",
    "\n",
    "> (array([6, 9, 10]),)"
   ]
  },
  {
   "cell_type": "code",
   "execution_count": 87,
   "metadata": {},
   "outputs": [
    {
     "data": {
      "text/plain": [
       "array([ 6,  9, 10])"
      ]
     },
     "execution_count": 87,
     "metadata": {},
     "output_type": "execute_result"
    }
   ],
   "source": [
    "a = np.array([2, 6, 1, 9, 10, 3, 27])\n",
    "\n",
    "a[(a>5) & (a<=10)]"
   ]
  },
  {
   "cell_type": "markdown",
   "metadata": {},
   "source": [
    "#### 15. How to make a python function that handles scalars to work on numpy arrays?\n",
    "\n",
    "Convert the function maxx that works on two scalars, to work on two arrays.\n",
    "\n",
    "def maxx(x, y):\n",
    "    \n",
    "    \"\"\"\n",
    "    Get the maximum of two items\n",
    "    \"\"\"\n",
    "    \n",
    "    if x >= y:\n",
    "        return x\n",
    "    else:\n",
    "        return y\n",
    "print(\"Result of the maxx function\")\n",
    "\n",
    "maxx(1, 5)\n",
    "\n",
    "Input:\n",
    "\n",
    "a = np.array([5, 7, 9, 8, 6, 4, 5])\n",
    "\n",
    "b = np.array([6, 3, 4, 8, 9, 7, 1])\n",
    "\n",
    "Desired Output:\n",
    "\n",
    "> array([ 6.,  7.,  9.,  8.,  9.,  7.,  5.])"
   ]
  },
  {
   "cell_type": "code",
   "execution_count": 12,
   "metadata": {},
   "outputs": [
    {
     "name": "stdout",
     "output_type": "stream",
     "text": [
      "Result of the maxx function(scalar): 5\n"
     ]
    },
    {
     "data": {
      "text/plain": [
       "array([6, 7, 9, 8, 9, 7, 5])"
      ]
     },
     "execution_count": 12,
     "metadata": {},
     "output_type": "execute_result"
    }
   ],
   "source": [
    "def maxx(x, y):\n",
    "    \"\"\"\n",
    "    Get the maximum of two items\n",
    "    \"\"\"\n",
    "    \n",
    "    if x >= y:\n",
    "        return x\n",
    "    else:\n",
    "        return y\n",
    "print(\"Result of the maxx function(scalar):\", maxx(1,5))\n",
    "\n",
    "\n",
    "a = np.array([5, 7, 9, 8, 6, 4, 5])\n",
    "b = np.array([6, 3, 4, 8, 9, 7, 1])\n",
    "\n",
    "def pair_max(a,b):\n",
    "    \n",
    "    # using a list comprehension to find the max between 2 arrays elementwise (using zip) \n",
    "    # and convert to numpy array\n",
    "    return np.array([max(x, y) for x, y in zip(a, b)])\n",
    "    \n",
    "pair_max(a,b)"
   ]
  },
  {
   "cell_type": "markdown",
   "metadata": {},
   "source": [
    "#### 16. How to swap two columns in a 2d numpy array?\n",
    "\n",
    "Swap columns 1 and 2 in the array arr.\n",
    "\n",
    "Input:\n",
    "\n",
    "arr = np.arange(9).reshape(3,3)\n",
    "\n",
    "Desired Output:\n",
    "\n",
    "> array([[1, 0, 2],\n",
    "       [4, 3, 5],\n",
    "       [7, 6, 8]])"
   ]
  },
  {
   "cell_type": "code",
   "execution_count": 24,
   "metadata": {},
   "outputs": [
    {
     "name": "stdout",
     "output_type": "stream",
     "text": [
      "[[0 1 2]\n",
      " [3 4 5]\n",
      " [6 7 8]]\n"
     ]
    },
    {
     "data": {
      "text/plain": [
       "array([[1, 0, 2],\n",
       "       [4, 3, 5],\n",
       "       [7, 6, 8]])"
      ]
     },
     "execution_count": 24,
     "metadata": {},
     "output_type": "execute_result"
    }
   ],
   "source": [
    "arr = np.arange(9).reshape(3,3)\n",
    "print(arr)\n",
    "\n",
    "# Swap columns 1 and 2\n",
    "arr[:,0], arr[:,1] = arr[:,1], arr[:,0].copy()\n",
    "arr\n",
    "\n",
    "# or\n",
    "# temp = arr[:,0].copy() # temporary variable\n",
    "# arr[:,0], arr[:,1] = arr[:,1], temp"
   ]
  },
  {
   "cell_type": "markdown",
   "metadata": {},
   "source": [
    "#### 17. How to swap two rows in a 2d numpy array?\n",
    "\n",
    "Swap rows 1 and 2 in the array arr.\n",
    "\n",
    "Input:\n",
    "\n",
    "arr = np.arange(9).reshape(3,3)\n",
    "\n",
    "Desired Output:\n",
    "\n",
    "> array([[3, 4, 5],\n",
    "       [0, 1, 2],\n",
    "       [6, 7, 8]])"
   ]
  },
  {
   "cell_type": "code",
   "execution_count": 25,
   "metadata": {},
   "outputs": [
    {
     "name": "stdout",
     "output_type": "stream",
     "text": [
      "[[0 1 2]\n",
      " [3 4 5]\n",
      " [6 7 8]]\n"
     ]
    },
    {
     "data": {
      "text/plain": [
       "array([[3, 4, 5],\n",
       "       [0, 1, 2],\n",
       "       [6, 7, 8]])"
      ]
     },
     "execution_count": 25,
     "metadata": {},
     "output_type": "execute_result"
    }
   ],
   "source": [
    "arr = np.arange(9).reshape(3,3)\n",
    "print(arr)\n",
    "\n",
    "arr[0,:], arr[1,:] = arr[1,:], arr[0,:].copy()\n",
    "arr"
   ]
  },
  {
   "cell_type": "markdown",
   "metadata": {},
   "source": [
    "#### 18. How to reverse the rows of a 2D array?\n",
    "\n",
    "Reverse the rows of a 2D array arr.\n",
    "\n",
    "Input:\n",
    "\n",
    "arr = np.arange(9).reshape(3,3)\n",
    "\n",
    "Desired Output:\n",
    "\n",
    "> array([[6, 7, 8],\n",
    "       [3, 4, 5],\n",
    "       [0, 1, 2]])"
   ]
  },
  {
   "cell_type": "markdown",
   "metadata": {},
   "source": [
    "#### 19. How to reverse the columns of a 2D array?\n",
    "\n",
    "Reverse the columns of a 2D array arr.\n",
    "\n",
    "Input:\n",
    "\n",
    "arr = np.arange(9).reshape(3,3)\n",
    "\n",
    "Desired Output:\n",
    "\n",
    "> array([[2, 1, 0],\n",
    "       [5, 4, 3],\n",
    "       [8, 7, 6]])"
   ]
  },
  {
   "cell_type": "markdown",
   "metadata": {},
   "source": [
    "#### 20. How to create a 2D array containing random floats between 5 and 10?\n",
    "\n",
    "Create a 2D array of shape 5x3 to contain random decimal numbers between 5 and 10.\n",
    "\n",
    "Desired Output:\n",
    "\n",
    "> array([[ 8, 10,  8],\n",
    "       [ 7,  9, 10],\n",
    "       [ 8,  7,  5],\n",
    "       [ 5,  9,  7],\n",
    "       [10,  8,  9]])"
   ]
  },
  {
   "cell_type": "markdown",
   "metadata": {},
   "source": [
    "#### 21. How to print only 3 decimal places in python numpy array?\n",
    "\n",
    "Print or show only 3 decimal places of the numpy array rand_arr.\n",
    "\n",
    "Desired Output(one of many):\n",
    "\n",
    "> array([[0.351, 0.737, 0.854],\n",
    "       [0.286, 0.416, 0.714],\n",
    "       [0.771, 0.027, 0.465],\n",
    "       [0.989, 0.925, 0.865],\n",
    "       [0.035, 0.917, 0.971]])"
   ]
  },
  {
   "cell_type": "markdown",
   "metadata": {},
   "source": [
    "#### 22. How to pretty print a numpy array by suppressing the scientific notation (like 1e10)?\n",
    "\n",
    "Pretty print rand_arr by suppressing the scientific notation (like 1e10).\n",
    "\n",
    "Desired Output:\n",
    "\n",
    "> array([[ 0.000543,  0.000278,  0.000425],\n",
    ">        [ 0.000845,  0.000005,  0.000122],\n",
    ">        [ 0.000671,  0.000826,  0.000137]])"
   ]
  },
  {
   "cell_type": "markdown",
   "metadata": {},
   "source": [
    "#### 23. How to limit the number of items printed in output of numpy array?\n",
    "\n",
    "Limit the number of items printed in python numpy array a to a maximum of 6 elements.\n",
    "\n",
    "Input:\n",
    "\n",
    "a = np.arange(15)\n",
    "\n",
    "Desired Output:\n",
    "\n",
    "> array([ 0,  1,  2, ..., 12, 13, 14])"
   ]
  },
  {
   "cell_type": "markdown",
   "metadata": {},
   "source": [
    "#### 24. How to print the full numpy array without truncating?\n",
    "\n",
    "Print the full numpy array a without truncating.\n",
    "\n",
    "Input:\n",
    "\n",
    "a = np.arange(15)\n",
    "\n",
    "Desired Output:\n",
    "\n",
    "> array([ 0,  1,  2,  3,  4,  5,  6,  7,  8,  9, 10, 11, 12, 13, 14])"
   ]
  },
  {
   "cell_type": "markdown",
   "metadata": {},
   "source": [
    "#### 25. How to import a dataset with numbers and texts keeping the text intact in python numpy?"
   ]
  }
 ],
 "metadata": {
  "kernelspec": {
   "display_name": "Python 3",
   "language": "python",
   "name": "python3"
  },
  "language_info": {
   "codemirror_mode": {
    "name": "ipython",
    "version": 3
   },
   "file_extension": ".py",
   "mimetype": "text/x-python",
   "name": "python",
   "nbconvert_exporter": "python",
   "pygments_lexer": "ipython3",
   "version": "3.8.5"
  }
 },
 "nbformat": 4,
 "nbformat_minor": 4
}
