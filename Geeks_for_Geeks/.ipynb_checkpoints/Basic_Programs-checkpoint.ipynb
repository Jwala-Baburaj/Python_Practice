{
 "cells": [
  {
   "cell_type": "markdown",
   "metadata": {},
   "source": [
    "#### 1. Given two numbers num1 and num2. The task is to write a Python program to find the addition of these two numbers."
   ]
  },
  {
   "cell_type": "code",
   "execution_count": 3,
   "metadata": {},
   "outputs": [
    {
     "name": "stdout",
     "output_type": "stream",
     "text": [
      "Enter first number: 3.5\n",
      "Enter second number: 6.3\n",
      "\n",
      "Sum of two numbers = 9.8\n"
     ]
    }
   ],
   "source": [
    "# To add two numbers\n",
    "\n",
    "def add_two_numbers(num1, num2):\n",
    "    \"\"\"Adding two numbers provided by user input\"\"\"\n",
    "    \n",
    "    return num1+num2\n",
    "\n",
    "# User might also enter float numbers \n",
    "num1 = float(input(\"Enter first number: \"))\n",
    "num2 = float(input(\"Enter second number: \"))\n",
    "\n",
    "sum = add_two_numbers(num1,num2)\n",
    "print(f\"\\nSum of two numbers = {sum}\")"
   ]
  },
  {
   "cell_type": "markdown",
   "metadata": {},
   "source": [
    "#### 2. Given two numbers, write a Python code to find the Maximum of these two numbers."
   ]
  },
  {
   "cell_type": "code",
   "execution_count": 6,
   "metadata": {},
   "outputs": [
    {
     "name": "stdout",
     "output_type": "stream",
     "text": [
      "Maximum of two given numbers: 6\n"
     ]
    }
   ],
   "source": [
    "# To find maximum of two numbers\n",
    "# Method 1 - naive approach\n",
    "\n",
    "def max_two_numbers(a,b):\n",
    "    \"\"\"Finding maximum of two numbers\"\"\"\n",
    "    \n",
    "    if a>=b:\n",
    "        max = a\n",
    "    else:\n",
    "        max = b\n",
    "# else statement can be ignored since return is provided below\n",
    "    return max\n",
    "\n",
    "# Driver code\n",
    "a = 6\n",
    "b = 2.8\n",
    "\n",
    "maximum = max_two_numbers(a,b)\n",
    "print(f\"Maximum of two given numbers: {maximum}\")\n"
   ]
  },
  {
   "cell_type": "code",
   "execution_count": 8,
   "metadata": {},
   "outputs": [
    {
     "name": "stdout",
     "output_type": "stream",
     "text": [
      "Maximum of two given numbers: 6\n"
     ]
    }
   ],
   "source": [
    "# Method 2 - max() function\n",
    "\n",
    "def max_two_numbers(a,b):\n",
    "    \"\"\"Finding maximum of two numbers using max() function\"\"\"\n",
    "    \n",
    "    return max(a,b)\n",
    "\n",
    "# Driver code\n",
    "a = 6\n",
    "b = 2.8\n",
    "\n",
    "maximum = max_two_numbers(a,b)\n",
    "print(f\"Maximum of two given numbers: {maximum}\")"
   ]
  },
  {
   "cell_type": "markdown",
   "metadata": {},
   "source": [
    "#### 3. Find factorial of a given number.\n",
    "Factorial of a non-negative integer, is multiplication of all integers smaller than or equal to n. For example factorial of 6 is 6*5*4*3*2*1 which is 720."
   ]
  },
  {
   "cell_type": "code",
   "execution_count": 11,
   "metadata": {},
   "outputs": [
    {
     "name": "stdout",
     "output_type": "stream",
     "text": [
      "Factorial of 5! = 120\n"
     ]
    }
   ],
   "source": [
    "def factorial(num):\n",
    "    \"\"\"Takes in a number num and returns its factorial\"\"\"\n",
    "    \n",
    "    n = 1\n",
    "    print(f\"Factorial of {num}! = \", end = '')\n",
    "    \n",
    "    while(num>1):\n",
    "        \n",
    "        n = n*num\n",
    "        num -=1\n",
    "    return n\n",
    "\n",
    "fact = factorial(5)\n",
    "print(fact)"
   ]
  }
 ],
 "metadata": {
  "kernelspec": {
   "display_name": "Python 3",
   "language": "python",
   "name": "python3"
  },
  "language_info": {
   "codemirror_mode": {
    "name": "ipython",
    "version": 3
   },
   "file_extension": ".py",
   "mimetype": "text/x-python",
   "name": "python",
   "nbconvert_exporter": "python",
   "pygments_lexer": "ipython3",
   "version": "3.8.5"
  }
 },
 "nbformat": 4,
 "nbformat_minor": 4
}
