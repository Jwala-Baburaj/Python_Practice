{
 "cells": [
  {
   "cell_type": "markdown",
   "metadata": {},
   "source": [
    "#### 1. Given a list, write a Python program to swap first and last element of the list.\n",
    "\n",
    "Examples:\n",
    "\n",
    "Input : [12, 35, 9, 56, 24]\n",
    "\n",
    "Output : [24, 35, 9, 56, 12]\n",
    "\n",
    "Input : [1, 2, 3]\n",
    "\n",
    "Output : [3, 2, 1]"
   ]
  },
  {
   "cell_type": "code",
   "execution_count": 9,
   "metadata": {
    "ExecuteTime": {
     "end_time": "2021-01-11T16:27:56.513868Z",
     "start_time": "2021-01-11T16:27:56.482430Z"
    }
   },
   "outputs": [
    {
     "data": {
      "text/plain": [
       "[24, 35, 9, 56, 12]"
      ]
     },
     "execution_count": 9,
     "metadata": {},
     "output_type": "execute_result"
    }
   ],
   "source": [
    "# Method 1: Simply swapping list[0] with list[-1]\n",
    "\n",
    "def swap_first_last(num_list):\n",
    "    \n",
    "    num_list[0], num_list[-1] = num_list[-1], num_list[0]\n",
    "    \n",
    "    return num_list\n",
    "\n",
    "\n",
    "num_list = [12, 35, 9, 56, 24]\n",
    "swap_first_last(num_list)\n"
   ]
  },
  {
   "cell_type": "code",
   "execution_count": 13,
   "metadata": {
    "ExecuteTime": {
     "end_time": "2021-01-11T16:37:56.541352Z",
     "start_time": "2021-01-11T16:37:56.525744Z"
    }
   },
   "outputs": [
    {
     "name": "stdout",
     "output_type": "stream",
     "text": [
      "[24, 35, 9, 56, 12]\n"
     ]
    }
   ],
   "source": [
    "# Method 2: Using '*' operand\n",
    "\n",
    "def swapList(list):\n",
    "    \n",
    "    start, *middle, end = list    # usage of '*' operand with examples given in the cell below\n",
    "    list = [end, *middle, start]\n",
    "    print (list)\n",
    "    \n",
    "list = [12, 35, 9, 56, 24]\n",
    "swapList(list)"
   ]
  },
  {
   "cell_type": "code",
   "execution_count": 14,
   "metadata": {
    "ExecuteTime": {
     "end_time": "2021-01-11T16:45:56.425104Z",
     "start_time": "2021-01-11T16:45:56.414447Z"
    }
   },
   "outputs": [
    {
     "name": "stdout",
     "output_type": "stream",
     "text": [
      "1\n",
      "[2, 3]\n",
      "4\n"
     ]
    }
   ],
   "source": [
    "# Illustrate the usage of * operarnd \n",
    "\n",
    "# Example 1\n",
    "\n",
    "list = [1, 2, 3, 4] \n",
    "  \n",
    "a, *b, c = list  # *b list of all elements between first and last\n",
    "  \n",
    "print(a) \n",
    "print(b) \n",
    "print(c)  "
   ]
  },
  {
   "cell_type": "markdown",
   "metadata": {},
   "source": [
    "#### 2. Given a list in Python and provided the positions of the elements, write a program to swap the two elements in the list.\n",
    "\n",
    "Examples:\n",
    "\n",
    "Input : List = [23, 65, 19, 90], pos1 = 1, pos2 = 3\n",
    "\n",
    "Output : [19, 65, 23, 90]\n",
    "\n",
    "Input : List = [1, 2, 3, 4, 5], pos1 = 2, pos2 = 5\n",
    "\n",
    "Output : [1, 5, 3, 4, 2]"
   ]
  }
 ],
 "metadata": {
  "kernelspec": {
   "display_name": "Python 3",
   "language": "python",
   "name": "python3"
  },
  "language_info": {
   "codemirror_mode": {
    "name": "ipython",
    "version": 3
   },
   "file_extension": ".py",
   "mimetype": "text/x-python",
   "name": "python",
   "nbconvert_exporter": "python",
   "pygments_lexer": "ipython3",
   "version": "3.8.3"
  }
 },
 "nbformat": 4,
 "nbformat_minor": 4
}
