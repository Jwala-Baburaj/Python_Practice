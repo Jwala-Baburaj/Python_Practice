{
 "cells": [
  {
   "cell_type": "markdown",
   "metadata": {},
   "source": [
    "#### 1. Given a list, write a Python program to swap first and last element of the list.\n",
    "\n",
    "Examples:\n",
    "\n",
    "Input : [12, 35, 9, 56, 24]\n",
    "\n",
    "Output : [24, 35, 9, 56, 12]\n",
    "\n",
    "Input : [1, 2, 3]\n",
    "\n",
    "Output : [3, 2, 1]"
   ]
  },
  {
   "cell_type": "code",
   "execution_count": 9,
   "metadata": {
    "ExecuteTime": {
     "end_time": "2021-01-11T16:27:56.513868Z",
     "start_time": "2021-01-11T16:27:56.482430Z"
    }
   },
   "outputs": [
    {
     "data": {
      "text/plain": [
       "[24, 35, 9, 56, 12]"
      ]
     },
     "execution_count": 9,
     "metadata": {},
     "output_type": "execute_result"
    }
   ],
   "source": [
    "# Method 1: Simply swapping list[0] with list[-1]\n",
    "\n",
    "def swap_first_last(num_list):\n",
    "    \n",
    "    num_list[0], num_list[-1] = num_list[-1], num_list[0]\n",
    "    \n",
    "    return num_list\n",
    "\n",
    "\n",
    "num_list = [12, 35, 9, 56, 24]\n",
    "swap_first_last(num_list)\n"
   ]
  },
  {
   "cell_type": "code",
   "execution_count": 27,
   "metadata": {
    "ExecuteTime": {
     "end_time": "2021-01-12T17:32:40.098926Z",
     "start_time": "2021-01-12T17:32:40.087264Z"
    }
   },
   "outputs": [
    {
     "data": {
      "text/plain": [
       "[24, 35, 9, 56, 12]"
      ]
     },
     "execution_count": 27,
     "metadata": {},
     "output_type": "execute_result"
    }
   ],
   "source": [
    "# Method 2: Using pop(), insert() and append()\n",
    "\n",
    "def swapElements(list_num):\n",
    "    \n",
    "    # Pop first and last elements\n",
    "    first = list_num.pop(0)\n",
    "    last = list_num.pop(-1)\n",
    "    \n",
    "    # Insert last value to first position which is 0\n",
    "    list_num.insert(0, last)\n",
    "    \n",
    "    # Append first value to the end of the list\n",
    "    list_num.append(first)\n",
    "    \n",
    "    return list_num\n",
    "\n",
    "list_num = [12, 35, 9, 56, 24]\n",
    "swapElements(list_num)"
   ]
  },
  {
   "cell_type": "code",
   "execution_count": 13,
   "metadata": {
    "ExecuteTime": {
     "end_time": "2021-01-11T16:37:56.541352Z",
     "start_time": "2021-01-11T16:37:56.525744Z"
    }
   },
   "outputs": [
    {
     "name": "stdout",
     "output_type": "stream",
     "text": [
      "[24, 35, 9, 56, 12]\n"
     ]
    }
   ],
   "source": [
    "# Method 3: Using '*' operand\n",
    "\n",
    "def swapList(List):\n",
    "    \n",
    "    start, *middle, end = List    # usage of '*' operand with more examples provided in the cell below\n",
    "    List = [end, *middle, start]\n",
    "    print (List)\n",
    "    \n",
    "List = [12, 35, 9, 56, 24]\n",
    "swapList(List)"
   ]
  },
  {
   "cell_type": "code",
   "execution_count": 19,
   "metadata": {
    "ExecuteTime": {
     "end_time": "2021-01-11T17:36:52.368804Z",
     "start_time": "2021-01-11T17:36:52.358830Z"
    }
   },
   "outputs": [
    {
     "name": "stdout",
     "output_type": "stream",
     "text": [
      "1\n",
      "[2, 3]\n",
      "4\n",
      "\n",
      "lemon pear watermelon tomato\n",
      "\n",
      "lemon pear watermelon tomato\n",
      "\n",
      "2 1 3 4 7 lemon pear watermelon tomato\n"
     ]
    }
   ],
   "source": [
    "# Illustrate the usage of * operand \n",
    "\n",
    "# Example 1\n",
    "\n",
    "list = [1, 2, 3, 4] \n",
    "  \n",
    "a, *b, c = list  # *b list of all elements between first and last\n",
    "  \n",
    "print(a) \n",
    "print(b) \n",
    "print(c)  \n",
    "\n",
    "print()\n",
    "\n",
    "# Example 2: For unpacking into function call\n",
    "\n",
    "fruits = ['lemon', 'pear', 'watermelon', 'tomato']\n",
    "print(fruits[0], fruits[1], fruits[2], fruits[3]) \n",
    "print()\n",
    "print(*fruits)  # * operand\n",
    "\n",
    "print()\n",
    "\n",
    "# Example 3: Using * multiple times can sometimes be handy\n",
    "\n",
    "fruits = ['lemon', 'pear', 'watermelon', 'tomato']\n",
    "numbers = [2, 1, 3, 4, 7]\n",
    "\n",
    "# Merge both the lists using *\n",
    "print(*numbers, *fruits) "
   ]
  },
  {
   "cell_type": "markdown",
   "metadata": {},
   "source": [
    "#### 2. Given a list in Python and provided the positions of the elements, write a program to swap the two elements in the list.\n",
    "\n",
    "Examples:\n",
    "\n",
    "Input : List = [23, 65, 19, 90], pos1 = 1, pos2 = 3\n",
    "\n",
    "Output : [19, 65, 23, 90]\n",
    "\n",
    "Input : List = [1, 2, 3, 4, 5], pos1 = 2, pos2 = 5\n",
    "\n",
    "Output : [1, 5, 3, 4, 2]"
   ]
  },
  {
   "cell_type": "code",
   "execution_count": 25,
   "metadata": {
    "ExecuteTime": {
     "end_time": "2021-01-12T16:38:59.541331Z",
     "start_time": "2021-01-12T16:38:59.526767Z"
    }
   },
   "outputs": [
    {
     "data": {
      "text/plain": [
       "[19, 65, 23, 90]"
      ]
     },
     "execution_count": 25,
     "metadata": {},
     "output_type": "execute_result"
    }
   ],
   "source": [
    "# Method 1: Simply swapping list[pos1] with list[pos2]\n",
    "\n",
    "def swapElements_pos(List, pos1, pos2):\n",
    "    \n",
    "    List[int(pos1)-1], List[int(pos2)-1] = List[int(pos2)-1], List[int(pos1)-1]\n",
    "    # or\n",
    "    # List[pos1], List[pos2] = List[pos2], List[pos1]\n",
    "    \n",
    "    return List\n",
    "\n",
    "List = [23, 65, 19, 90] \n",
    "pos1 = 1 \n",
    "pos2 = 3\n",
    "\n",
    "swapElements_pos(List, pos1, pos2)\n",
    "# or\n",
    "# swapElements_pos(List, pos1-1, pos2-1)"
   ]
  },
  {
   "cell_type": "code",
   "execution_count": 29,
   "metadata": {
    "ExecuteTime": {
     "end_time": "2021-01-12T17:46:54.341212Z",
     "start_time": "2021-01-12T17:46:54.322576Z"
    }
   },
   "outputs": [
    {
     "data": {
      "text/plain": [
       "[19, 65, 23, 90]"
      ]
     },
     "execution_count": 29,
     "metadata": {},
     "output_type": "execute_result"
    }
   ],
   "source": [
    "# Method 2: Using pop() and insert()\n",
    "\n",
    "def swapElements_pos(List, pos1, pos2):\n",
    "    \n",
    "    first = List.pop(pos1)\n",
    "    # Since one element is popped the position to pop next becomes (pos2-1)\n",
    "    second = List.pop(pos2-1)\n",
    "    \n",
    "    List.insert(pos1, second)\n",
    "    List.insert(pos2, first)\n",
    "    \n",
    "    return List\n",
    "\n",
    "List = [23, 65, 19, 90] \n",
    "pos1 = 1 \n",
    "pos2 = 3\n",
    "\n",
    "swapElements_pos(List, pos1-1, pos2-1)"
   ]
  },
  {
   "cell_type": "markdown",
   "metadata": {},
   "source": [
    "#### 3. Different ways to find length of a list."
   ]
  },
  {
   "cell_type": "code",
   "execution_count": 3,
   "metadata": {},
   "outputs": [
    {
     "name": "stdout",
     "output_type": "stream",
     "text": [
      "The list is [1, 4, 5, 7, 8]\n",
      "Length of list using naive method is 5\n"
     ]
    }
   ],
   "source": [
    "# Method 1: Naive method using loop; by incrementing counter\n",
    "\n",
    "# Initializing list  \n",
    "test_list = [ 1, 4, 5, 7, 8 ] \n",
    "  \n",
    "# Printing test_list \n",
    "print (\"The list is \" + str(test_list)) \n",
    "\n",
    "# Initializing counter \n",
    "counter = 0\n",
    "for i in test_list: \n",
    "      \n",
    "    # incrementing counter \n",
    "    counter = counter + 1\n",
    "    \n",
    "# Printing length of list  \n",
    "print (\"Length of list using naive method is \" + str(counter))"
   ]
  },
  {
   "cell_type": "code",
   "execution_count": 4,
   "metadata": {},
   "outputs": [
    {
     "name": "stdout",
     "output_type": "stream",
     "text": [
      "List is  ['Hello', 'Geeks', 'For', 'Geeks']\n",
      "The length of list is:  4\n"
     ]
    }
   ],
   "source": [
    "# Method 2: Using len() method\n",
    "\n",
    "a = [] \n",
    "a.append(\"Hello\") \n",
    "a.append(\"Geeks\") \n",
    "a.append(\"For\") \n",
    "a.append(\"Geeks\") \n",
    "print('List is ', a)\n",
    "\n",
    "print(\"The length of list is: \", len(a)) "
   ]
  },
  {
   "cell_type": "markdown",
   "metadata": {},
   "source": [
    "#### 4. Check if element exists in list in Python."
   ]
  },
  {
   "cell_type": "code",
   "execution_count": 1,
   "metadata": {},
   "outputs": [
    {
     "name": "stdout",
     "output_type": "stream",
     "text": [
      "Element Exists\n"
     ]
    }
   ],
   "source": [
    "# Method 1: Naive method using loop\n",
    "\n",
    "# Initializing list  \n",
    "test_list = [ 1, 6, 3, 5, 3, 4 ] \n",
    "\n",
    "# Checking if 4 exists in list  \n",
    "# using loop \n",
    "for i in test_list: \n",
    "    if(i == 4) : \n",
    "        print (\"Element Exists\") "
   ]
  },
  {
   "cell_type": "code",
   "execution_count": null,
   "metadata": {},
   "outputs": [],
   "source": []
  }
 ],
 "metadata": {
  "kernelspec": {
   "display_name": "Python 3",
   "language": "python",
   "name": "python3"
  },
  "language_info": {
   "codemirror_mode": {
    "name": "ipython",
    "version": 3
   },
   "file_extension": ".py",
   "mimetype": "text/x-python",
   "name": "python",
   "nbconvert_exporter": "python",
   "pygments_lexer": "ipython3",
   "version": "3.8.5"
  }
 },
 "nbformat": 4,
 "nbformat_minor": 4
}
